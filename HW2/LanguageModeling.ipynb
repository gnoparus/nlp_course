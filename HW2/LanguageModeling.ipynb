{
  "nbformat": 4,
  "nbformat_minor": 0,
  "metadata": {
    "kernelspec": {
      "display_name": "Python 3",
      "language": "python",
      "name": "python3"
    },
    "language_info": {
      "codemirror_mode": {
        "name": "ipython",
        "version": 3
      },
      "file_extension": ".py",
      "mimetype": "text/x-python",
      "name": "python",
      "nbconvert_exporter": "python",
      "pygments_lexer": "ipython3",
      "version": "3.6.4"
    },
    "colab": {
      "name": "LanguageModeling.ipynb",
      "provenance": [],
      "toc_visible": true
    }
  },
  "cells": [
    {
      "cell_type": "code",
      "metadata": {
        "id": "d0MAKC17IhY7",
        "colab_type": "code",
        "colab": {
          "base_uri": "https://localhost:8080/",
          "height": 71
        },
        "outputId": "ffe630ef-e2b3-460a-ca15-4e40ffe7da7c"
      },
      "source": [
        "! nvidia-smi"
      ],
      "execution_count": 1,
      "outputs": [
        {
          "output_type": "stream",
          "text": [
            "NVIDIA-SMI has failed because it couldn't communicate with the NVIDIA driver. Make sure that the latest NVIDIA driver is installed and running.\n",
            "\n"
          ],
          "name": "stdout"
        }
      ]
    },
    {
      "cell_type": "code",
      "metadata": {
        "id": "uCZnZ7u2IkvM",
        "colab_type": "code",
        "colab": {
          "base_uri": "https://localhost:8080/",
          "height": 309
        },
        "outputId": "3689f213-3ce8-44a3-dbc9-331bf91ab17b"
      },
      "source": [
        "! wget --no-check-certificate https://raw.githubusercontent.com/ekapolc/nlp_course/master/HW2/BEST2010.zip\n",
        "! unzip BEST2010.zip"
      ],
      "execution_count": 2,
      "outputs": [
        {
          "output_type": "stream",
          "text": [
            "--2020-08-19 05:13:11--  https://raw.githubusercontent.com/ekapolc/nlp_course/master/HW2/BEST2010.zip\n",
            "Resolving raw.githubusercontent.com (raw.githubusercontent.com)... 151.101.0.133, 151.101.64.133, 151.101.128.133, ...\n",
            "Connecting to raw.githubusercontent.com (raw.githubusercontent.com)|151.101.0.133|:443... connected.\n",
            "HTTP request sent, awaiting response... 200 OK\n",
            "Length: 7423530 (7.1M) [application/zip]\n",
            "Saving to: ‘BEST2010.zip’\n",
            "\n",
            "\rBEST2010.zip          0%[                    ]       0  --.-KB/s               \rBEST2010.zip         63%[===========>        ]   4.50M  22.5MB/s               \rBEST2010.zip        100%[===================>]   7.08M  27.4MB/s    in 0.3s    \n",
            "\n",
            "2020-08-19 05:13:11 (27.4 MB/s) - ‘BEST2010.zip’ saved [7423530/7423530]\n",
            "\n",
            "Archive:  BEST2010.zip\n",
            "   creating: BEST2010/\n",
            "  inflating: BEST2010/article.txt    \n",
            "  inflating: BEST2010/encyclopedia.txt  \n",
            "  inflating: BEST2010/news.txt       \n"
          ],
          "name": "stdout"
        }
      ]
    },
    {
      "cell_type": "markdown",
      "metadata": {
        "collapsed": true,
        "id": "wiE0gGjqHY6_",
        "colab_type": "text"
      },
      "source": [
        "# Language Modeling using Ngram"
      ]
    },
    {
      "cell_type": "markdown",
      "metadata": {
        "id": "ycAfPSKJHY7C",
        "colab_type": "text"
      },
      "source": [
        "In this Exercise, you are going to use NLTK which is a natural language processing library for python to create a bigram language model and its variation. You will build one model for each of the following type and calculate their perplexity:\n",
        "- Unigram Model\n",
        "- Bigram Model\n",
        "- Bigram Model with Laplace smoothing\n",
        "- Bigram Model with Interpolation\n",
        "\n",
        "As a reminder,\n",
        "### Don't forget to shut down your instance on Gcloud when you are not using it ###\n"
      ]
    },
    {
      "cell_type": "code",
      "metadata": {
        "id": "Vkdyds_aHY7E",
        "colab_type": "code",
        "colab": {}
      },
      "source": [
        "#First we import necessary library such as math, nltk, bigram, and collections.\n",
        "import math\n",
        "import nltk\n",
        "import io\n",
        "import random\n",
        "from random import shuffle\n",
        "from nltk import bigrams, trigrams\n",
        "from collections import Counter, defaultdict\n",
        "random.seed(999)"
      ],
      "execution_count": null,
      "outputs": []
    },
    {
      "cell_type": "markdown",
      "metadata": {
        "id": "2KpcdLFEHY7K",
        "colab_type": "text"
      },
      "source": [
        "BEST2010 is a free Thai NLP dataset by NECTEC usually use as a standard benchmark for various NLP tasks includeing language modeling. BEST2010 is separated into 4 domain article, encyclopedia, news and novel. The data is already  tokenized using '|' as a separator.\n",
        "\n",
        "For example,\n",
        "\n",
        "ตาม|ที่|นางประนอม ทองจันทร์| |กับ| |ด.ช.กิตติพงษ์ แหลมผักแว่น| |และ| |ด.ญ.กาญจนา กรองแก้ว| |ป่วย|สงสัย|ติด|เชื้อ|ไข้|ขณะ|นี้|ยัง|ไม่|ดี|ขึ้น|"
      ]
    },
    {
      "cell_type": "code",
      "metadata": {
        "id": "nZU2fEzmHY7L",
        "colab_type": "code",
        "colab": {}
      },
      "source": [
        "# We choose news domain as our dataset\n",
        "best2010=[]\n",
        "fp= io.open('BEST2010/news.txt','r',encoding='utf-8')\n",
        "for i,line in enumerate(fp):\n",
        "    best2010.append(line.strip()[:-1])\n",
        "fp.close()\n",
        "vocabuary =set()\n",
        "total_word_count =0\n",
        "for line in best2010:\n",
        "    for word in line.split('|'):        \n",
        "        vocabuary.add(word)\n",
        "        total_word_count+=1"
      ],
      "execution_count": null,
      "outputs": []
    },
    {
      "cell_type": "code",
      "metadata": {
        "id": "D3Pbd2I3HY7Q",
        "colab_type": "code",
        "colab": {},
        "outputId": "ea1cbf7c-ab7a-44e7-82e4-f1ca10d793ca"
      },
      "source": [
        "#For simplicity, we assumes that each line is a sentence.\n",
        "print ('Total sentences in BEST2010 news dataset :\\t'+ str(len(best2010)))\n",
        "print ('Total word counts in BEST2010 news dataset :\\t'+ str(total_word_count))\n",
        "print ('Total vocabuary in BEST2010 news dataset :\\t'+ str(len(vocabuary)))"
      ],
      "execution_count": null,
      "outputs": [
        {
          "output_type": "stream",
          "text": [
            "Total sentences in BEST2010 news dataset :\t30969\n",
            "Total word counts in BEST2010 news dataset :\t1660190\n",
            "Total vocabuary in BEST2010 news dataset :\t35488\n"
          ],
          "name": "stdout"
        }
      ]
    },
    {
      "cell_type": "markdown",
      "metadata": {
        "id": "j7L-CERMHY7X",
        "colab_type": "text"
      },
      "source": [
        "We separate out input into 2 sets, train and test data with 70:30 ratio"
      ]
    },
    {
      "cell_type": "code",
      "metadata": {
        "id": "D_LycyugHY7Y",
        "colab_type": "code",
        "colab": {}
      },
      "source": [
        "sentences = best2010\n",
        "# The data is separated to train and test set with 70:30 ratio.\n",
        "train = sentences[:int(len(sentences)*0.7)]\n",
        "test = sentences[int(len(sentences)*0.7):]\n",
        "\n",
        "# We will use 1/total word count as a default value for unknown word\n",
        "unk_value = math.pow(len(vocabuary),-1)"
      ],
      "execution_count": null,
      "outputs": []
    },
    {
      "cell_type": "markdown",
      "metadata": {
        "id": "RZV50TVPHY7c",
        "colab_type": "text"
      },
      "source": [
        "# Unigram"
      ]
    },
    {
      "cell_type": "markdown",
      "metadata": {
        "id": "pp7k1G0eHY7d",
        "colab_type": "text"
      },
      "source": [
        "In this section, we will demonstrate how to build a unigram language model"
      ]
    },
    {
      "cell_type": "code",
      "metadata": {
        "id": "_vY6bdYfHY7e",
        "colab_type": "code",
        "colab": {}
      },
      "source": [
        "def getUnigramModel(data):\n",
        "    model = defaultdict(lambda: 0)\n",
        "    total_word_count =0\n",
        "    for sentence in data:\n",
        "        sentence +=  u'|</s>'\n",
        "        for w1 in sentence.split('|'):\n",
        "            model[w1] +=1.0\n",
        "            total_word_count+=1\n",
        "    for w1 in model:\n",
        "        model[w1] = model[w1]/(total_word_count)\n",
        "    return model"
      ],
      "execution_count": null,
      "outputs": []
    },
    {
      "cell_type": "code",
      "metadata": {
        "id": "SCUTeLfaHY7k",
        "colab_type": "code",
        "colab": {}
      },
      "source": [
        "model = getUnigramModel(train)"
      ],
      "execution_count": null,
      "outputs": []
    },
    {
      "cell_type": "code",
      "metadata": {
        "id": "V83nQIQ-HY7q",
        "colab_type": "code",
        "colab": {}
      },
      "source": [
        "def getLnValue(x):\n",
        "    if x >0.0:\n",
        "        return math.log(x)\n",
        "    else:\n",
        "        return math.log(unk_value)"
      ],
      "execution_count": null,
      "outputs": []
    },
    {
      "cell_type": "code",
      "metadata": {
        "id": "H3aCGwgMHY7u",
        "colab_type": "code",
        "colab": {},
        "outputId": "f8e45956-4ad2-401a-bc39-38a533391e77"
      },
      "source": [
        "#problability of 'นายก'\n",
        "print(getLnValue(model[u'นายก']))\n",
        "#for example, problability of 'นายกรัฐมนตรี' which is an unknown word is equal to\n",
        "print(getLnValue(model[u'นายกรัฐมนตรี']))\n",
        "#problability of 'นายก' 'ได้' 'ให้' 'สัมภาษณ์' 'กับ' 'สื่อ'\n",
        "prob = getLnValue(model[u'นายก'])+getLnValue(model[u'ได้'])+ getLnValue(model[u'ให้'])+getLnValue(model[u'สัมภาษณ์'])+getLnValue(model[u'กับ'])+getLnValue(model[u'สื่อ'])\n",
        "print ('Problability of a sentence', math.exp(prob))"
      ],
      "execution_count": null,
      "outputs": [
        {
          "output_type": "stream",
          "text": [
            "-6.551526663995246\n",
            "-10.476949890150093\n",
            "Problability of a sentence 2.75827124812635e-16\n"
          ],
          "name": "stdout"
        }
      ]
    },
    {
      "cell_type": "markdown",
      "metadata": {
        "id": "sqL2zEXpHY7z",
        "colab_type": "text"
      },
      "source": [
        "# Perplexity\n",
        "\n",
        "In order to compare language model we need to calculate perplexity. In this task you should write a perplexity calculation code for the unigram model. The result perplexity should be around 513.97 and\n",
        "452.66 on train and test data."
      ]
    },
    {
      "cell_type": "markdown",
      "metadata": {
        "id": "X7xsrFZeHY70",
        "colab_type": "text"
      },
      "source": [
        "## TODO #1 Calculate perplexity"
      ]
    },
    {
      "cell_type": "code",
      "metadata": {
        "id": "H1x9dXbkHY71",
        "colab_type": "code",
        "colab": {}
      },
      "source": [
        "def calculate_sentence_ln_prob(sentence, model):\n",
        "    pass\n",
        "\n",
        "def perplexity(test,model):\n",
        "    pass"
      ],
      "execution_count": null,
      "outputs": []
    },
    {
      "cell_type": "code",
      "metadata": {
        "id": "kmrkGhXKHY75",
        "colab_type": "code",
        "colab": {},
        "outputId": "4d498324-1f60-4624-d442-058e9e544b18"
      },
      "source": [
        "print(perplexity(train,model))\n",
        "print(perplexity(test,model))"
      ],
      "execution_count": null,
      "outputs": [
        {
          "output_type": "stream",
          "text": [
            "513.9747870973313\n",
            "452.65524668351003\n"
          ],
          "name": "stdout"
        }
      ]
    },
    {
      "cell_type": "markdown",
      "metadata": {
        "id": "1pBeaHPLHY7_",
        "colab_type": "text"
      },
      "source": [
        "## TODO #2 Please explain why this model give us such a high perplexity."
      ]
    },
    {
      "cell_type": "markdown",
      "metadata": {
        "id": "YRXwUu2FHY8A",
        "colab_type": "text"
      },
      "source": [
        "**Your answer**:  ........."
      ]
    },
    {
      "cell_type": "markdown",
      "metadata": {
        "id": "Xwi-1_AgHY8C",
        "colab_type": "text"
      },
      "source": [
        "# Bigram"
      ]
    },
    {
      "cell_type": "markdown",
      "metadata": {
        "id": "AvMQnLr9HY8C",
        "colab_type": "text"
      },
      "source": [
        "Next, you will create a better language model than a unigram (which is not much to compare with). But first, it is very tedious to count every pair of words that occur in our corpus by ourselves. In this case, nltk provide us a simple library which will do it for us."
      ]
    },
    {
      "cell_type": "code",
      "metadata": {
        "id": "TUihl-c2HY8D",
        "colab_type": "code",
        "colab": {},
        "outputId": "73eb9a5a-e55f-4b9f-afdc-bd9bd178731b"
      },
      "source": [
        "#example of nltk usage for bigram\n",
        "sentence = 'I always search google for an answer .'\n",
        "\n",
        "print('This is how nltk generate bigram.')\n",
        "for w1,w2 in bigrams(sentence.split(), pad_right=True, pad_left=True):\n",
        "    print (w1,w2)\n",
        "print('None is used as a start and end of sentence symbol.')"
      ],
      "execution_count": null,
      "outputs": [
        {
          "output_type": "stream",
          "text": [
            "This is how nltk generate bigram.\n",
            "None I\n",
            "I always\n",
            "always search\n",
            "search google\n",
            "google for\n",
            "for an\n",
            "an answer\n",
            "answer .\n",
            ". None\n",
            "None is used as a start and end of sentence symbol.\n"
          ],
          "name": "stdout"
        }
      ]
    },
    {
      "cell_type": "markdown",
      "metadata": {
        "id": "GHTYuls-HY8I",
        "colab_type": "text"
      },
      "source": [
        "Now, you should be able to implement a bigram model by yourself. Also, you must create a new perplexity calculation for bigram. The result perplexity should be around 58.54 and 153.36 on train and test data."
      ]
    },
    {
      "cell_type": "markdown",
      "metadata": {
        "id": "X2QZNFsgHY8J",
        "colab_type": "text"
      },
      "source": [
        "## TODO #3 Write Bigram Model"
      ]
    },
    {
      "cell_type": "code",
      "metadata": {
        "id": "hLn-zCJiHY8K",
        "colab_type": "code",
        "colab": {}
      },
      "source": [
        "def getBigramModel(data):\n",
        "    pass\n",
        "\n",
        "\n",
        "model = getBigramModel(train)"
      ],
      "execution_count": null,
      "outputs": []
    },
    {
      "cell_type": "markdown",
      "metadata": {
        "id": "3DSnvH0ZHY8P",
        "colab_type": "text"
      },
      "source": [
        "## TODO #4 Write Perplexity for Bigram Model\n",
        "\n",
        "Sum perplexity score at a sentence level, instead of word level"
      ]
    },
    {
      "cell_type": "code",
      "metadata": {
        "id": "-G12BYymHY8S",
        "colab_type": "code",
        "colab": {}
      },
      "source": [
        "def calculate_sentence_ln_prob(sentence, model):\n",
        "    pass\n",
        "\n",
        "\n",
        "\n",
        "def perplexity(test,model):\n",
        "    pass"
      ],
      "execution_count": null,
      "outputs": []
    },
    {
      "cell_type": "code",
      "metadata": {
        "id": "SEWMpZeQHY8X",
        "colab_type": "code",
        "colab": {},
        "outputId": "757aae04-c08f-454b-cf3e-e64af86b47ab"
      },
      "source": [
        "print (perplexity(train,model) )\n",
        "print (perplexity(test, model))"
      ],
      "execution_count": null,
      "outputs": [
        {
          "output_type": "stream",
          "text": [
            "58.53517510765259\n",
            "153.36386541850547\n"
          ],
          "name": "stdout"
        }
      ]
    },
    {
      "cell_type": "markdown",
      "metadata": {
        "id": "Z3W3std6HY8c",
        "colab_type": "text"
      },
      "source": [
        "# Smoothing"
      ]
    },
    {
      "cell_type": "markdown",
      "metadata": {
        "id": "C4fHOJrdHY8d",
        "colab_type": "text"
      },
      "source": [
        "Usually any ngram models have a sparsity problem, which means it does not have every possible ngram of words in the dataset. Smoothing techniques can alleviate this problem. In this section, you will implement two basic smoothing methods laplace smoothing and interpolation for bigram."
      ]
    },
    {
      "cell_type": "markdown",
      "metadata": {
        "id": "X5Fyz5uwHY8f",
        "colab_type": "text"
      },
      "source": [
        "## TODO #5 write Bigram with Laplace smoothing (Add-One Smoothing)"
      ]
    },
    {
      "cell_type": "code",
      "metadata": {
        "id": "8mED5zQLHY8g",
        "colab_type": "code",
        "colab": {},
        "outputId": "91549608-2e39-43b0-82d6-841102986dd2"
      },
      "source": [
        "#Laplace Smoothing\n",
        "def getBigramWithLaplaceSmoothing(data):\n",
        "    pass\n",
        "model =getBigramWithLaplaceSmoothing(train)\n",
        "print (perplexity(train,model) )\n",
        "print (perplexity(test, model))"
      ],
      "execution_count": null,
      "outputs": [
        {
          "output_type": "stream",
          "text": [
            "1231.113465432258\n",
            "1390.82820339171\n"
          ],
          "name": "stdout"
        }
      ]
    },
    {
      "cell_type": "markdown",
      "metadata": {
        "id": "3PLrOODaHY8j",
        "colab_type": "text"
      },
      "source": [
        "## TODO #6 Write Bigram with Interpolation\n",
        "lambda value is 0.7 for bigram, 0.25 for unigram, and 0.05 for unknown word"
      ]
    },
    {
      "cell_type": "code",
      "metadata": {
        "id": "P2cy9o1bHY8k",
        "colab_type": "code",
        "colab": {},
        "outputId": "e42100ed-84b1-41d8-a85d-de29925ec2a7"
      },
      "source": [
        "#interpolation\n",
        "def getBigramWithInterpolation(data):\n",
        "    pass\n",
        "model = getBigramWithInterpolation(train)\n",
        "print (perplexity(train,model))        \n",
        "print (perplexity(test,model))"
      ],
      "execution_count": null,
      "outputs": [
        {
          "output_type": "stream",
          "text": [
            "39.899540475582384\n",
            "107.26849422396057\n"
          ],
          "name": "stdout"
        }
      ]
    },
    {
      "cell_type": "markdown",
      "metadata": {
        "id": "SSGjeoQ4HY8o",
        "colab_type": "text"
      },
      "source": [
        "the result perplexity on training and testing should be \n",
        "\n",
        "    1231.14, 1390.85 for Laplace smoothing\n",
        "    39.90, 107.27 for Interpolation"
      ]
    },
    {
      "cell_type": "markdown",
      "metadata": {
        "id": "5hZwPhPXHY8p",
        "colab_type": "text"
      },
      "source": [
        "# Language modeling on multiple domains\n",
        "\n",
        "Sometimes, we do not have enough data to create a language model for a new domain. In that case, we can improvised by combining several models to improve result on the new domain.\n",
        "\n",
        "In this exercise you will try to merge two language model from news and article domains to create a language model for the encyclopedia domain."
      ]
    },
    {
      "cell_type": "code",
      "metadata": {
        "id": "gqGkEjzBHY8p",
        "colab_type": "code",
        "colab": {}
      },
      "source": [
        "# create article data\n",
        "encyclo_data=[]\n",
        "fp= io.open('BEST2010/encyclopedia.txt','r',encoding='utf-8')\n",
        "for i,line in enumerate(fp):\n",
        "    encyclo_data.append(line.strip()[:-1])\n",
        "fp.close()"
      ],
      "execution_count": null,
      "outputs": []
    },
    {
      "cell_type": "markdown",
      "metadata": {
        "id": "XGrdtfOLHY8t",
        "colab_type": "text"
      },
      "source": [
        "First, you should try to calculate perplexity of your bigram with interpolation on article data. The result perplexity should be around 466.17 \n",
        "\n",
        "For your information, a bigram model with interpolation using ariticle data to test on encyclopedia data has a perplexity of 281.24"
      ]
    },
    {
      "cell_type": "code",
      "metadata": {
        "id": "aITomlCQHY8t",
        "colab_type": "code",
        "colab": {},
        "outputId": "70402834-726f-4401-9210-9903723620fc"
      },
      "source": [
        "#print perplexity of bigram with interpolation on article data        \n",
        "print (perplexity(encyclo_data,model))"
      ],
      "execution_count": null,
      "outputs": [
        {
          "output_type": "stream",
          "text": [
            "466.1682377516689\n"
          ],
          "name": "stdout"
        }
      ]
    },
    {
      "cell_type": "markdown",
      "metadata": {
        "id": "b8p9dLtPHY8x",
        "colab_type": "text"
      },
      "source": [
        "## TODO #7 \n",
        "Write a model that produce 260.0 or less perplexity on encyclopedia data without using data from the encyclopedia as training data. (Hint : Try to combine a model with news data and a model with article data together.)"
      ]
    },
    {
      "cell_type": "code",
      "metadata": {
        "id": "xsTq6lwFHY8y",
        "colab_type": "code",
        "colab": {}
      },
      "source": [
        ""
      ],
      "execution_count": null,
      "outputs": []
    },
    {
      "cell_type": "markdown",
      "metadata": {
        "id": "eE7i-A8vHY81",
        "colab_type": "text"
      },
      "source": [
        "# Kneser-ney Smoothing\n",
        "\n"
      ]
    },
    {
      "cell_type": "markdown",
      "metadata": {
        "id": "QfuMMaMaHY82",
        "colab_type": "text"
      },
      "source": [
        "## TODO #8 (optional: Bonus 0.5 points) \n",
        "Implement kneser-ney smoothing with news and article data "
      ]
    },
    {
      "cell_type": "code",
      "metadata": {
        "id": "XP1vRhkiHY82",
        "colab_type": "code",
        "colab": {}
      },
      "source": [
        ""
      ],
      "execution_count": null,
      "outputs": []
    },
    {
      "cell_type": "code",
      "metadata": {
        "id": "1B3rnrYrHY88",
        "colab_type": "code",
        "colab": {}
      },
      "source": [
        "print (perplexity(encyclo_data,model))"
      ],
      "execution_count": null,
      "outputs": []
    }
  ]
}