{
  "nbformat": 4,
  "nbformat_minor": 0,
  "metadata": {
    "kernelspec": {
      "display_name": "Python 3",
      "language": "python",
      "name": "python3"
    },
    "language_info": {
      "codemirror_mode": {
        "name": "ipython",
        "version": 3
      },
      "file_extension": ".py",
      "mimetype": "text/x-python",
      "name": "python",
      "nbconvert_exporter": "python",
      "pygments_lexer": "ipython3",
      "version": "3.6.4"
    },
    "colab": {
      "name": "LanguageModeling.ipynb",
      "provenance": []
    }
  },
  "cells": [
    {
      "cell_type": "code",
      "metadata": {
        "id": "d0MAKC17IhY7",
        "colab_type": "code",
        "colab": {
          "base_uri": "https://localhost:8080/",
          "height": 51
        },
        "outputId": "f314f27c-0a75-4dd0-f2ad-19e7862d1bfb"
      },
      "source": [
        "! nvidia-smi"
      ],
      "execution_count": 6,
      "outputs": [
        {
          "output_type": "stream",
          "text": [
            "NVIDIA-SMI has failed because it couldn't communicate with the NVIDIA driver. Make sure that the latest NVIDIA driver is installed and running.\n",
            "\n"
          ],
          "name": "stdout"
        }
      ]
    },
    {
      "cell_type": "code",
      "metadata": {
        "id": "uCZnZ7u2IkvM",
        "colab_type": "code",
        "colab": {}
      },
      "source": [
        "# ! wget --no-check-certificate https://raw.githubusercontent.com/ekapolc/nlp_course/master/HW2/BEST2010.zip\n",
        "# ! unzip BEST2010.zip"
      ],
      "execution_count": 7,
      "outputs": []
    },
    {
      "cell_type": "markdown",
      "metadata": {
        "collapsed": true,
        "id": "wiE0gGjqHY6_",
        "colab_type": "text"
      },
      "source": [
        "# Language Modeling using Ngram"
      ]
    },
    {
      "cell_type": "markdown",
      "metadata": {
        "id": "ycAfPSKJHY7C",
        "colab_type": "text"
      },
      "source": [
        "In this Exercise, you are going to use NLTK which is a natural language processing library for python to create a bigram language model and its variation. You will build one model for each of the following type and calculate their perplexity:\n",
        "- Unigram Model\n",
        "- Bigram Model\n",
        "- Bigram Model with Laplace smoothing\n",
        "- Bigram Model with Interpolation\n",
        "\n",
        "As a reminder,\n",
        "### Don't forget to shut down your instance on Gcloud when you are not using it ###\n"
      ]
    },
    {
      "cell_type": "code",
      "metadata": {
        "id": "Vkdyds_aHY7E",
        "colab_type": "code",
        "colab": {}
      },
      "source": [
        "#First we import necessary library such as math, nltk, bigram, and collections.\n",
        "import math\n",
        "import nltk\n",
        "import io\n",
        "import random\n",
        "from random import shuffle\n",
        "from nltk import bigrams, trigrams\n",
        "from collections import Counter, defaultdict\n",
        "random.seed(999)\n",
        "from IPython.core.debugger import set_trace"
      ],
      "execution_count": 8,
      "outputs": []
    },
    {
      "cell_type": "markdown",
      "metadata": {
        "id": "2KpcdLFEHY7K",
        "colab_type": "text"
      },
      "source": [
        "BEST2010 is a free Thai NLP dataset by NECTEC usually use as a standard benchmark for various NLP tasks includeing language modeling. BEST2010 is separated into 4 domain article, encyclopedia, news and novel. The data is already  tokenized using '|' as a separator.\n",
        "\n",
        "For example,\n",
        "\n",
        "ตาม|ที่|นางประนอม ทองจันทร์| |กับ| |ด.ช.กิตติพงษ์ แหลมผักแว่น| |และ| |ด.ญ.กาญจนา กรองแก้ว| |ป่วย|สงสัย|ติด|เชื้อ|ไข้|ขณะ|นี้|ยัง|ไม่|ดี|ขึ้น|"
      ]
    },
    {
      "cell_type": "code",
      "metadata": {
        "id": "nZU2fEzmHY7L",
        "colab_type": "code",
        "colab": {}
      },
      "source": [
        "# We choose news domain as our dataset\n",
        "best2010=[]\n",
        "fp= io.open('BEST2010/news.txt','r',encoding='utf-8')\n",
        "for i,line in enumerate(fp):\n",
        "    best2010.append(line.strip()[:-1])\n",
        "fp.close()\n",
        "vocabuary = set()\n",
        "total_word_count =0\n",
        "for line in best2010:\n",
        "    for word in line.split('|'):        \n",
        "        vocabuary.add(word)\n",
        "        total_word_count+=1"
      ],
      "execution_count": 9,
      "outputs": []
    },
    {
      "cell_type": "code",
      "metadata": {
        "id": "RKdlU8YZVL8h",
        "colab_type": "code",
        "colab": {
          "base_uri": "https://localhost:8080/",
          "height": 122
        },
        "outputId": "1146de25-7970-4ffe-d090-b7e6fa8dda41"
      },
      "source": [
        "best2010[:5]"
      ],
      "execution_count": 10,
      "outputs": [
        {
          "output_type": "execute_result",
          "data": {
            "text/plain": [
              "['สงสัย|ติด|หวัด|นก| |อีก|คน|ยัง|น่า|ห่วง',\n",
              " 'ตาม|ที่|นางประนอม ทองจันทร์| |กับ| |ด.ช.กิตติพงษ์ แหลมผักแว่น| |และ| |ด.ญ.กาญจนา กรองแก้ว| |ป่วย|สงสัย|ติด|เชื้อ|ไข้|ขณะ|นี้|ยัง|ไม่|ดี|ขึ้น',\n",
              " 'หลัง|เข้า|เยี่ยม|ดู|อาการ|ผู้|ป่วย|แล้ว| |น.พ.จรัล|ประชุม|ร่วม|กับ|เจ้าหน้าที่|ทุก|ฝ่าย| |เพื่อ|สรุป|ผล|การ|ดำเนิน|การ| |รวม|ทั้ง|สอบสวน|โรค|ก่อน|ที่|ผู้|ป่วย|จะ|ถูก|ส่ง|มา|รักษา|ตัว| |จาก|นั้น|ร่วม|กัน|แถลง|ข่าว| |โดย| |น.พ.จรัล|กล่าว|ว่า| |ขณะ|นี้|ผู้|ป่วย|ทั้ง| |3| |ราย| |อาการ|ยัง|ทรง| |โดย|ใน|ราย|ของ| |ด.ช.กิตติพงษ์| |กับ| |ด.ญ.กาญจนา| |ปอด|หาย|เป็น|ปกติ|แล้ว| |คาด|ว่า|จะ|กลับ|บ้าน|ได้|ใน|ไม่|ช้า|นี้| |แต่|ใน|ราย|ของ|นางประนอม|อาการ|ยัง|น่า|เป็นห่วง| |ซึ่ง|ทั้ง| |3| |ราย| |ใน|ชั้น|นี้|ถือ|ว่า|เป็น|ผู้|ป่วย|อยู่|ใน|ขั้น|น่า|สงสัย|อาจ|ติด|เชื้อ|ไข้|หวัด|นก| |เพราะ|ตรวจ|พบ|ผู้|ป่วย|มี|อาการ|ปอด|บวม|ปอด|อักเสบ| |เนื่อง|จาก|ติด|เชื้อ|ไวรัส| |แต่|ยัง|สรุป|ไม่|ได้|ว่า|ติด|เชื้อ|ไข้|หวัด|นก|แน่ชัด|หรือ|ไม่| |ต้อง|รอ|ผล|ตรวจ|จาก|ห้อง|ปฏิบัติการ|ที่|ได้|ส่ง|ตัวอย่าง|เลือด| |ไป|ตรวจ|พิสูจน์|ที่|กรมวิทยาศาสตร์การแพทย์กระทรวงสาธารณสุข| |และ| |รพ.ศิริราช| |ซึ่ง|จะ|ทราบ|ผล|ใน|วัน|สอง|วัน|นี้',\n",
              " 'น.พ.จรัล| |กล่าว|ต่อ|ว่า| |จาก|การ|สอบสวน|โรค|พบ|ว่า| |ผู้|ที่|เสีย|ชีวิต|ก่อนหน้า|นี้| |3| |ราย| |กับ|ผู้|ป่วย|ที่|อยู่|ใน|ข่าย|น่า|สงสัย|อีก| |3| |ราย| |มี|ประวัติ|สัมผัส|ไก่|ที่|ตาย|ด้วย|โรค|ไข้|หวัด|นก|ใน|เขต| |อ.ขาณุวรลักษบุรี| |และ|เขตกิ่งอ.โกสัมพีนคร| |ส่วน|ที่|มี|การ|ระแวง|กัน|ว่า|เชื้อ|ไข้|หวัด|นก|จะ|กลาย|พันธุ์|ระบาด|จาก|คน|สู่|คน|นั้น| |น.พ.จรัล|กล่าว|ว่า| |ยัง|ไม่|มี|ประวัติ| |และ|ยัง|ไม่|เคย|เกิด|ขึ้น|มา|ก่อน| |ทั่ว|โลก|ก็|ยัง|ไม่|พบ|เชื้อ| |H|5|N|1| |เป็น|เฉพาะ|ใน|สัตว์|ปีก| |เพิ่ง|ระบาด|สู่|คน| |เมื่อ|ต้น|ปี|ที่|ผ่าน|มา| |ส่วน|ของ|ไทย|มี|ผู้|ป่วย|ตั้งแต่|ต้น|ปี| |2546| |ยืนยัน|ว่า|มี|ผู้|ติด|เชื้อ|ไข้|หวัด|นก|เพียง| |13| |คน| |เสีย|ชีวิต| |9| |ราย| |ส่วน|ปี|นี้|ติด|เชื้อ|เพียง|ราย|เดียว|และ|เสีย|ชีวิต|ไป|แล้ว',\n",
              " 'ที่| |จ.ปราจีนบุรี| |ข้อมูล|การ|แพร่|ระบาด|จาก|คน|สู่|คน| |ยัง|ไม่|มี|รักษาการ|ปลัด|กระทรวงสาธารณสุข|กล่าว|ด้วย|ว่า| |อย่าง|ไร|ก็ตาม| |ใน|กรณี|ของ| |จ.กำแพงเพชร| |เป็น|กรณี|ศึกษา|ที่|น่า|สนใจ| |แต่|ยัง|ไม่|ยืนยัน|ว่า|เป็น|ไข้|ขณะ|นี้|ได้|ส่ง|ชิ้นส่วน|ไป|ตรวจสอบ|อยู่| |โดย|ผู้|ป่วย|ที่|อยู่|ใกล้ชิด|กับ|ผู้|ตาย| |เพราะ|อยู่|บ้าน|เดียว|กัน| |จะ|เป็น|กุญแจ|ดอก|สำคัญ| |มี|การ|ส่ง|ตัวอย่าง|ไป|ตรวจ|พิสูจน์|เพิ่มเติม|แล้ว| |มั่นใจ|ว่า|เชื้อ|ไข้|หวัด|นก|คง|ไม่|ระบาด|ง่าย|ๆ| |อย่าง|ที่|ระแวง|กัน| |แต่|ก็|เป็น|เรื่อง|ที่|น่า|สนใจ| |ส่วน|กรณี|ที่| |พ.ต.ท.ทักษิณ ชินวัตร| |นายก|รัฐมนตรี| |ไม่|พอใจ|การ|ทำ|งาน|ของ|เจ้าหน้าที่|ที่|เกี่ยวข้อง|นั้น| |น.พ.จรัล|กล่าว|ว่า| |นายก|ฯ| |กำชับ|ให้|รีบ|ลง|มา|ดูแล|และ|ควบคุม|พื้นที่|ระบาด|ให้|ได้|ทั้ง|ใน|คน|และ']"
            ]
          },
          "metadata": {
            "tags": []
          },
          "execution_count": 10
        }
      ]
    },
    {
      "cell_type": "code",
      "metadata": {
        "id": "D3Pbd2I3HY7Q",
        "colab_type": "code",
        "colab": {
          "base_uri": "https://localhost:8080/",
          "height": 68
        },
        "outputId": "26361850-16d8-4fb8-a36b-4fca718f86e5"
      },
      "source": [
        "#For simplicity, we assumes that each line is a sentence.\n",
        "print ('Total sentences in BEST2010 news dataset :\\t'+ str(len(best2010)))\n",
        "print ('Total word counts in BEST2010 news dataset :\\t'+ str(total_word_count))\n",
        "print ('Total vocabuary in BEST2010 news dataset :\\t'+ str(len(vocabuary)))"
      ],
      "execution_count": 11,
      "outputs": [
        {
          "output_type": "stream",
          "text": [
            "Total sentences in BEST2010 news dataset :\t30969\n",
            "Total word counts in BEST2010 news dataset :\t1660190\n",
            "Total vocabuary in BEST2010 news dataset :\t35488\n"
          ],
          "name": "stdout"
        }
      ]
    },
    {
      "cell_type": "markdown",
      "metadata": {
        "id": "j7L-CERMHY7X",
        "colab_type": "text"
      },
      "source": [
        "We separate out input into 2 sets, train and test data with 70:30 ratio"
      ]
    },
    {
      "cell_type": "code",
      "metadata": {
        "id": "D_LycyugHY7Y",
        "colab_type": "code",
        "colab": {}
      },
      "source": [
        "sentences = best2010\n",
        "# The data is separated to train and test set with 70:30 ratio.\n",
        "train = sentences[:int(len(sentences)*0.7)]\n",
        "test = sentences[int(len(sentences)*0.7):]\n",
        "\n",
        "# We will use 1/total word count as a default value for unknown word\n",
        "unk_value = math.pow(len(vocabuary),-1)"
      ],
      "execution_count": 12,
      "outputs": []
    },
    {
      "cell_type": "markdown",
      "metadata": {
        "id": "RZV50TVPHY7c",
        "colab_type": "text"
      },
      "source": [
        "# Unigram"
      ]
    },
    {
      "cell_type": "markdown",
      "metadata": {
        "id": "pp7k1G0eHY7d",
        "colab_type": "text"
      },
      "source": [
        "In this section, we will demonstrate how to build a unigram language model"
      ]
    },
    {
      "cell_type": "code",
      "metadata": {
        "id": "_vY6bdYfHY7e",
        "colab_type": "code",
        "colab": {}
      },
      "source": [
        "def getUnigramModel(data):\n",
        "    model = defaultdict(lambda: 0)\n",
        "    total_word_count =0\n",
        "    for sentence in data:\n",
        "        sentence +=  u'|</s>'\n",
        "        for w1 in sentence.split('|'):\n",
        "            model[w1] +=1.0\n",
        "            total_word_count+=1\n",
        "    for w1 in model:\n",
        "        model[w1] = model[w1]/(total_word_count)\n",
        "    return model"
      ],
      "execution_count": 13,
      "outputs": []
    },
    {
      "cell_type": "code",
      "metadata": {
        "id": "SCUTeLfaHY7k",
        "colab_type": "code",
        "colab": {}
      },
      "source": [
        "model = getUnigramModel(train)"
      ],
      "execution_count": 14,
      "outputs": []
    },
    {
      "cell_type": "code",
      "metadata": {
        "id": "u8t-WW0OoC70",
        "colab_type": "code",
        "colab": {
          "base_uri": "https://localhost:8080/",
          "height": 204
        },
        "outputId": "895e9a3f-956c-46a6-f364-66b282b1b8a3"
      },
      "source": [
        "len(model), list(model.items())[100:110]"
      ],
      "execution_count": 15,
      "outputs": [
        {
          "output_type": "execute_result",
          "data": {
            "text/plain": [
              "(26241,\n",
              " [('ห้อง', 0.0005251415016792316),\n",
              "  ('ปฏิบัติการ', 5.35475234270415e-05),\n",
              "  ('ตัวอย่าง', 0.00014655111674769251),\n",
              "  ('เลือด', 0.00013903567486319546),\n",
              "  ('ไป', 0.008119495525963503),\n",
              "  ('พิสูจน์', 0.00011085276779633152),\n",
              "  ('กรมวิทยาศาสตร์การแพทย์กระทรวงสาธารณสุข', 9.394302355621316e-07),\n",
              "  ('รพ.ศิริราช', 1.78491744756805e-05),\n",
              "  ('ทราบ', 0.0010878602127809484),\n",
              "  ('วัน', 0.0037736912562530826)])"
            ]
          },
          "metadata": {
            "tags": []
          },
          "execution_count": 15
        }
      ]
    },
    {
      "cell_type": "code",
      "metadata": {
        "id": "V83nQIQ-HY7q",
        "colab_type": "code",
        "colab": {}
      },
      "source": [
        "def getLnValue(x):\n",
        "    if x >0.0:\n",
        "        return math.log(x)\n",
        "    else:\n",
        "        return math.log(unk_value)"
      ],
      "execution_count": 16,
      "outputs": []
    },
    {
      "cell_type": "code",
      "metadata": {
        "id": "H3aCGwgMHY7u",
        "colab_type": "code",
        "colab": {
          "base_uri": "https://localhost:8080/",
          "height": 68
        },
        "outputId": "89ba1491-9841-4db0-cf3a-e54d061794fb"
      },
      "source": [
        "#problability of 'นายก'\n",
        "print(getLnValue(model[u'นายก']))\n",
        "#for example, problability of 'นายกรัฐมนตรี' which is an unknown word is equal to\n",
        "print(getLnValue(model[u'นายกรัฐมนตรี']))\n",
        "#problability of 'นายก' 'ได้' 'ให้' 'สัมภาษณ์' 'กับ' 'สื่อ'\n",
        "prob = getLnValue(model[u'นายก'])+getLnValue(model[u'ได้'])+ getLnValue(model[u'ให้'])+getLnValue(model[u'สัมภาษณ์'])+getLnValue(model[u'กับ'])+getLnValue(model[u'สื่อ'])\n",
        "print ('Problability of a sentence', math.exp(prob))"
      ],
      "execution_count": 17,
      "outputs": [
        {
          "output_type": "stream",
          "text": [
            "-6.551526663995246\n",
            "-10.476949890150093\n",
            "Problability of a sentence 2.75827124812635e-16\n"
          ],
          "name": "stdout"
        }
      ]
    },
    {
      "cell_type": "markdown",
      "metadata": {
        "id": "sqL2zEXpHY7z",
        "colab_type": "text"
      },
      "source": [
        "# Perplexity\n",
        "\n",
        "In order to compare language model we need to calculate perplexity. In this task you should write a perplexity calculation code for the unigram model. The result perplexity should be around 513.97 and\n",
        "452.66 on train and test data."
      ]
    },
    {
      "cell_type": "markdown",
      "metadata": {
        "id": "X7xsrFZeHY70",
        "colab_type": "text"
      },
      "source": [
        "## TODO #1 Calculate perplexity"
      ]
    },
    {
      "cell_type": "code",
      "metadata": {
        "id": "H1x9dXbkHY71",
        "colab_type": "code",
        "colab": {}
      },
      "source": [
        "def calculate_sentence_ln_prob(sentence, model):\n",
        "    res = 0.0    \n",
        "    for word in sentence.split('|')[:-1]:\n",
        "        res += getLnValue(model[word])\n",
        "    return res\n",
        "\n",
        "def perplexity(test,model):\n",
        "    ln_prob = 0.0\n",
        "    count = 0\n",
        "    for sentence in test:\n",
        "        sentence += u'|</s>'\n",
        "        ln_prob += calculate_sentence_ln_prob(sentence, model) \n",
        "        count += len(sentence.split('|'))\n",
        "    return  math.exp( -ln_prob/count)"
      ],
      "execution_count": 18,
      "outputs": []
    },
    {
      "cell_type": "code",
      "metadata": {
        "id": "3TUfqyGUrJaz",
        "colab_type": "code",
        "colab": {
          "base_uri": "https://localhost:8080/",
          "height": 34
        },
        "outputId": "a87138fb-0389-4928-d15e-ccca10315ad8"
      },
      "source": [
        "w1 = calculate_sentence_ln_prob(\"นายก|ได้|ให้|สัมภาษณ์|กับ|สื่อ\", model)\n",
        "w1, math.exp(w1)"
      ],
      "execution_count": 19,
      "outputs": [
        {
          "output_type": "execute_result",
          "data": {
            "text/plain": [
              "(-29.07324334845302, 2.3640183468996036e-13)"
            ]
          },
          "metadata": {
            "tags": []
          },
          "execution_count": 19
        }
      ]
    },
    {
      "cell_type": "code",
      "metadata": {
        "id": "I3d37htzwkeU",
        "colab_type": "code",
        "colab": {}
      },
      "source": [
        "# train"
      ],
      "execution_count": 20,
      "outputs": []
    },
    {
      "cell_type": "code",
      "metadata": {
        "id": "kmrkGhXKHY75",
        "colab_type": "code",
        "colab": {
          "base_uri": "https://localhost:8080/",
          "height": 51
        },
        "outputId": "18ceb6d1-30c5-40de-9ce0-c6c38f370c48"
      },
      "source": [
        "print(perplexity(train,model))\n",
        "print(perplexity(test,model))"
      ],
      "execution_count": 21,
      "outputs": [
        {
          "output_type": "stream",
          "text": [
            "513.9747870973313\n",
            "452.65524668351003\n"
          ],
          "name": "stdout"
        }
      ]
    },
    {
      "cell_type": "markdown",
      "metadata": {
        "id": "1pBeaHPLHY7_",
        "colab_type": "text"
      },
      "source": [
        "## TODO #2 Please explain why this model give us such a high perplexity."
      ]
    },
    {
      "cell_type": "markdown",
      "metadata": {
        "id": "YRXwUu2FHY8A",
        "colab_type": "text"
      },
      "source": [
        "**Your answer**:  ........."
      ]
    },
    {
      "cell_type": "markdown",
      "metadata": {
        "id": "Xwi-1_AgHY8C",
        "colab_type": "text"
      },
      "source": [
        "# Bigram"
      ]
    },
    {
      "cell_type": "markdown",
      "metadata": {
        "id": "AvMQnLr9HY8C",
        "colab_type": "text"
      },
      "source": [
        "Next, you will create a better language model than a unigram (which is not much to compare with). But first, it is very tedious to count every pair of words that occur in our corpus by ourselves. In this case, nltk provide us a simple library which will do it for us."
      ]
    },
    {
      "cell_type": "code",
      "metadata": {
        "id": "TUihl-c2HY8D",
        "colab_type": "code",
        "colab": {
          "base_uri": "https://localhost:8080/",
          "height": 204
        },
        "outputId": "97f22af7-fea9-4be6-db8b-d8e79e2c05d6"
      },
      "source": [
        "#example of nltk usage for bigram\n",
        "sentence = 'I always search google for an answer .'\n",
        "\n",
        "print('This is how nltk generate bigram.')\n",
        "for w1,w2 in bigrams(sentence.split(), pad_right=True, pad_left=True):\n",
        "    print (w1,w2)\n",
        "print('None is used as a start and end of sentence symbol.')"
      ],
      "execution_count": 22,
      "outputs": [
        {
          "output_type": "stream",
          "text": [
            "This is how nltk generate bigram.\n",
            "None I\n",
            "I always\n",
            "always search\n",
            "search google\n",
            "google for\n",
            "for an\n",
            "an answer\n",
            "answer .\n",
            ". None\n",
            "None is used as a start and end of sentence symbol.\n"
          ],
          "name": "stdout"
        }
      ]
    },
    {
      "cell_type": "markdown",
      "metadata": {
        "id": "GHTYuls-HY8I",
        "colab_type": "text"
      },
      "source": [
        "Now, you should be able to implement a bigram model by yourself. Also, you must create a new perplexity calculation for bigram. The result perplexity should be around 58.54 and 153.36 on train and test data."
      ]
    },
    {
      "cell_type": "markdown",
      "metadata": {
        "id": "X2QZNFsgHY8J",
        "colab_type": "text"
      },
      "source": [
        "## TODO #3 Write Bigram Model"
      ]
    },
    {
      "cell_type": "code",
      "metadata": {
        "id": "l6lppPn54cRK",
        "colab_type": "code",
        "colab": {}
      },
      "source": [
        "# bigrams??"
      ],
      "execution_count": 23,
      "outputs": []
    },
    {
      "cell_type": "code",
      "metadata": {
        "id": "hLn-zCJiHY8K",
        "colab_type": "code",
        "colab": {}
      },
      "source": [
        "def getBigramModel(data):\n",
        "    model = defaultdict(lambda: defaultdict(lambda: 0.0))\n",
        "    \n",
        "    for sentence in data:        \n",
        "        for w1,w2 in bigrams(sentence.split(\"|\"), pad_right=True, pad_left=True):\n",
        "            model[w1][w2] +=1.0\n",
        "\n",
        "    for w1 in model:\n",
        "        unigram = float(sum(model[w1].values()))\n",
        "        for w2 in model[w1]:\n",
        "            model[w1][w2] /= unigram\n",
        "    return model\n",
        "\n",
        "model = getBigramModel(train)"
      ],
      "execution_count": 24,
      "outputs": []
    },
    {
      "cell_type": "code",
      "metadata": {
        "id": "kogAK_mB5iu9",
        "colab_type": "code",
        "colab": {
          "base_uri": "https://localhost:8080/",
          "height": 34
        },
        "outputId": "93839a02-2e46-4c35-8955-79119004d903"
      },
      "source": [
        "len(model), list(model['กิน'])[:10]"
      ],
      "execution_count": 25,
      "outputs": [
        {
          "output_type": "execute_result",
          "data": {
            "text/plain": [
              "(26241, ['ซาก', 'ไก่', 'สัตว์', None, ' ', 'ไข่', 'มา', 'ไม่', 'อาหาร', 'มาก'])"
            ]
          },
          "metadata": {
            "tags": []
          },
          "execution_count": 25
        }
      ]
    },
    {
      "cell_type": "markdown",
      "metadata": {
        "id": "3DSnvH0ZHY8P",
        "colab_type": "text"
      },
      "source": [
        "## TODO #4 Write Perplexity for Bigram Model\n",
        "\n",
        "Sum perplexity score at a sentence level, instead of word level"
      ]
    },
    {
      "cell_type": "code",
      "metadata": {
        "id": "-G12BYymHY8S",
        "colab_type": "code",
        "colab": {}
      },
      "source": [
        "def calculate_sentence_ln_prob(sentence, model):\n",
        "    res = 0.0\n",
        "    for w1, w2 in bigrams(sentence.split(\"|\"), pad_right=True, pad_left=True):\n",
        "        res += getLnValue(model[w1][w2])\n",
        "    return res\n",
        "\n",
        "def perplexity(test,model):\n",
        "    ln_prob = 0.0\n",
        "    count = 0    \n",
        "    for sentence in test:        \n",
        "        ln_prob += calculate_sentence_ln_prob(sentence, model) \n",
        "        count += len(sentence.split(\"|\")) + 1         \n",
        "\n",
        "    return  math.exp( -ln_prob / count)"
      ],
      "execution_count": 26,
      "outputs": []
    },
    {
      "cell_type": "code",
      "metadata": {
        "id": "vxP1TvnEONvQ",
        "colab_type": "code",
        "colab": {
          "base_uri": "https://localhost:8080/",
          "height": 136
        },
        "outputId": "1badd546-dc9b-4805-fd2c-54dd1c52bbc1"
      },
      "source": [
        "model[u'None'][u'นายก'], model[u'นายก'][u'ได้'], model[u'ได้'][u'ให้'], model[u'ให้'][u'สัมภาษณ์'], model[u'สัมภาษณ์'][u'กับ'], model[u'กับ'][u'สื่อ'], model[u'สื่อ'][u'None']"
      ],
      "execution_count": 27,
      "outputs": [
        {
          "output_type": "execute_result",
          "data": {
            "text/plain": [
              "(0.0,\n",
              " 0.0,\n",
              " 0.012016638422431059,\n",
              " 0.02084212302759261,\n",
              " 0.010452961672473868,\n",
              " 0.004985459077690071,\n",
              " 0.0)"
            ]
          },
          "metadata": {
            "tags": []
          },
          "execution_count": 27
        }
      ]
    },
    {
      "cell_type": "code",
      "metadata": {
        "id": "YkkLAb7X7u90",
        "colab_type": "code",
        "colab": {
          "base_uri": "https://localhost:8080/",
          "height": 34
        },
        "outputId": "04af1e2e-a644-426c-c853-8da346c453ad"
      },
      "source": [
        "w1 = calculate_sentence_ln_prob(\"นายก|ได้|ให้|สัมภาษณ์|กับ|สื่อ\", model)\n",
        "w1, math.exp(w1)"
      ],
      "execution_count": 28,
      "outputs": [
        {
          "output_type": "execute_result",
          "data": {
            "text/plain": [
              "(-39.281485033665355, 8.715008377345561e-18)"
            ]
          },
          "metadata": {
            "tags": []
          },
          "execution_count": 28
        }
      ]
    },
    {
      "cell_type": "code",
      "metadata": {
        "id": "SEWMpZeQHY8X",
        "colab_type": "code",
        "colab": {
          "base_uri": "https://localhost:8080/",
          "height": 51
        },
        "outputId": "0c1fbf5b-3de3-4e5b-fa41-0401b721fb2c"
      },
      "source": [
        "print (perplexity(train,model) )\n",
        "print (perplexity(test, model))"
      ],
      "execution_count": 29,
      "outputs": [
        {
          "output_type": "stream",
          "text": [
            "58.78942889767147\n",
            "153.76867837707394\n"
          ],
          "name": "stdout"
        }
      ]
    },
    {
      "cell_type": "markdown",
      "metadata": {
        "id": "Z3W3std6HY8c",
        "colab_type": "text"
      },
      "source": [
        "# Smoothing"
      ]
    },
    {
      "cell_type": "markdown",
      "metadata": {
        "id": "C4fHOJrdHY8d",
        "colab_type": "text"
      },
      "source": [
        "Usually any ngram models have a sparsity problem, which means it does not have every possible ngram of words in the dataset. Smoothing techniques can alleviate this problem. In this section, you will implement two basic smoothing methods laplace smoothing and interpolation for bigram."
      ]
    },
    {
      "cell_type": "markdown",
      "metadata": {
        "id": "X5Fyz5uwHY8f",
        "colab_type": "text"
      },
      "source": [
        "## TODO #5 write Bigram with Laplace smoothing (Add-One Smoothing)"
      ]
    },
    {
      "cell_type": "code",
      "metadata": {
        "id": "GTJifuxquI5V",
        "colab_type": "code",
        "colab": {}
      },
      "source": [
        "#Laplace Smoothing\n",
        "def getBigramWithLaplaceSmoothing(data):\n",
        "    model = defaultdict(lambda: defaultdict(lambda: 0.0))\n",
        "    \n",
        "    for sentence in data:        \n",
        "        for w1,w2 in bigrams(sentence.split(\"|\"), pad_right=True, pad_left=True):\n",
        "            model[w1][w2] += 1.0\n",
        "            \n",
        "    for w1 in model:\n",
        "        unigram = float(sum(model[w1].values()))\n",
        "        for w2 in model[w1]:            \n",
        "            model[w1][w2] = (model[w1][w2] + 1.0) / (unigram + len(vocabuary))            \n",
        "    return model"
      ],
      "execution_count": 37,
      "outputs": []
    },
    {
      "cell_type": "code",
      "metadata": {
        "id": "8mED5zQLHY8g",
        "colab_type": "code",
        "colab": {
          "base_uri": "https://localhost:8080/",
          "height": 51
        },
        "outputId": "ae3de9f4-40c8-4cf2-c744-919788a502bc"
      },
      "source": [
        "model = getBigramWithLaplaceSmoothing(train)\n",
        "print (perplexity(train,model))\n",
        "print (perplexity(test, model))    "
      ],
      "execution_count": 38,
      "outputs": [
        {
          "output_type": "stream",
          "text": [
            "1242.629211428872\n",
            "1398.9466787861493\n"
          ],
          "name": "stdout"
        }
      ]
    },
    {
      "cell_type": "markdown",
      "metadata": {
        "id": "3PLrOODaHY8j",
        "colab_type": "text"
      },
      "source": [
        "## TODO #6 Write Bigram with Interpolation\n",
        "lambda value is 0.7 for bigram, 0.25 for unigram, and 0.05 for unknown word"
      ]
    },
    {
      "cell_type": "code",
      "metadata": {
        "id": "P2cy9o1bHY8k",
        "colab_type": "code",
        "colab": {}
      },
      "source": [
        "#interpolation\n",
        "def getBigramWithInterpolation(data):\n",
        "    model = defaultdict(lambda: defaultdict(lambda: 0.0))\n",
        "    \n",
        "    for sentence in data:        \n",
        "        for w1,w2 in bigrams(sentence.split(\"|\"), pad_right=True, pad_left=True):\n",
        "            model[w1][w2] += 1.0\n",
        "            \n",
        "    for w1 in model:\n",
        "        unigram = float(sum(model[w1].values()))\n",
        "        for w2 in model[w1]:            \n",
        "            model[w1][w2] = 0.7 * model[w1][w2] / unigram  +  0.25 * unigram / total_word_count + 0.05 * unk_value          \n",
        "    return model"
      ],
      "execution_count": 49,
      "outputs": []
    },
    {
      "cell_type": "code",
      "metadata": {
        "id": "Dtb7kmEkgCgU",
        "colab_type": "code",
        "colab": {
          "base_uri": "https://localhost:8080/",
          "height": 51
        },
        "outputId": "f536377d-a8b6-41aa-fb0a-2f79175f097b"
      },
      "source": [
        "model = getBigramWithInterpolation(train)\n",
        "print (perplexity(train,model))        \n",
        "print (perplexity(test,model))"
      ],
      "execution_count": 50,
      "outputs": [
        {
          "output_type": "stream",
          "text": [
            "44.68441323825217\n",
            "118.71873335281947\n"
          ],
          "name": "stdout"
        }
      ]
    },
    {
      "cell_type": "markdown",
      "metadata": {
        "id": "SSGjeoQ4HY8o",
        "colab_type": "text"
      },
      "source": [
        "the result perplexity on training and testing should be \n",
        "\n",
        "    1231.14, 1390.85 for Laplace smoothing\n",
        "    39.90, 107.27 for Interpolation"
      ]
    },
    {
      "cell_type": "markdown",
      "metadata": {
        "id": "5hZwPhPXHY8p",
        "colab_type": "text"
      },
      "source": [
        "# Language modeling on multiple domains\n",
        "\n",
        "Sometimes, we do not have enough data to create a language model for a new domain. In that case, we can improvised by combining several models to improve result on the new domain.\n",
        "\n",
        "In this exercise you will try to merge two language model from news and article domains to create a language model for the encyclopedia domain."
      ]
    },
    {
      "cell_type": "code",
      "metadata": {
        "id": "gqGkEjzBHY8p",
        "colab_type": "code",
        "colab": {}
      },
      "source": [
        "# create article data\n",
        "encyclo_data=[]\n",
        "fp= io.open('BEST2010/encyclopedia.txt','r',encoding='utf-8')\n",
        "for i,line in enumerate(fp):\n",
        "    encyclo_data.append(line.strip()[:-1])\n",
        "fp.close()"
      ],
      "execution_count": 51,
      "outputs": []
    },
    {
      "cell_type": "markdown",
      "metadata": {
        "id": "XGrdtfOLHY8t",
        "colab_type": "text"
      },
      "source": [
        "First, you should try to calculate perplexity of your bigram with interpolation on article data. The result perplexity should be around 466.17 \n",
        "\n",
        "For your information, a bigram model with interpolation using ariticle data to test on encyclopedia data has a perplexity of 281.24"
      ]
    },
    {
      "cell_type": "code",
      "metadata": {
        "id": "aITomlCQHY8t",
        "colab_type": "code",
        "colab": {
          "base_uri": "https://localhost:8080/",
          "height": 34
        },
        "outputId": "bf3b2a92-0baf-43d7-ffa8-2193f2b09564"
      },
      "source": [
        "#print perplexity of bigram with interpolation on article data        \n",
        "print (perplexity(encyclo_data,model))"
      ],
      "execution_count": 52,
      "outputs": [
        {
          "output_type": "stream",
          "text": [
            "562.2437986285148\n"
          ],
          "name": "stdout"
        }
      ]
    },
    {
      "cell_type": "markdown",
      "metadata": {
        "id": "b8p9dLtPHY8x",
        "colab_type": "text"
      },
      "source": [
        "## TODO #7 \n",
        "Write a model that produce 260.0 or less perplexity on encyclopedia data without using data from the encyclopedia as training data. (Hint : Try to combine a model with news data and a model with article data together.)"
      ]
    },
    {
      "cell_type": "code",
      "metadata": {
        "id": "xsTq6lwFHY8y",
        "colab_type": "code",
        "colab": {}
      },
      "source": [
        ""
      ],
      "execution_count": 52,
      "outputs": []
    },
    {
      "cell_type": "markdown",
      "metadata": {
        "id": "eE7i-A8vHY81",
        "colab_type": "text"
      },
      "source": [
        "# Kneser-ney Smoothing\n",
        "\n"
      ]
    },
    {
      "cell_type": "markdown",
      "metadata": {
        "id": "QfuMMaMaHY82",
        "colab_type": "text"
      },
      "source": [
        "## TODO #8 (optional: Bonus 0.5 points) \n",
        "Implement kneser-ney smoothing with news and article data "
      ]
    },
    {
      "cell_type": "code",
      "metadata": {
        "id": "XP1vRhkiHY82",
        "colab_type": "code",
        "colab": {}
      },
      "source": [
        ""
      ],
      "execution_count": null,
      "outputs": []
    },
    {
      "cell_type": "code",
      "metadata": {
        "id": "1B3rnrYrHY88",
        "colab_type": "code",
        "colab": {}
      },
      "source": [
        "print (perplexity(encyclo_data,model))"
      ],
      "execution_count": null,
      "outputs": []
    }
  ]
}