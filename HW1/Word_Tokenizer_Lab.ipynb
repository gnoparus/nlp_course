{
  "nbformat": 4,
  "nbformat_minor": 0,
  "metadata": {
    "kernelspec": {
      "name": "python3",
      "display_name": "Python 3"
    },
    "colab": {
      "name": "Word_Tokenizer_Lab.ipynb",
      "provenance": []
    }
  },
  "cells": [
    {
      "cell_type": "markdown",
      "metadata": {
        "id": "2-_ItSb2GEyV",
        "colab_type": "text"
      },
      "source": [
        "## Word Tokenizer exercise##\n",
        "\n",
        "In this exercise, you are going to build a set of deep learning models on a (sort of) real world task using Tensorflow and Keras. Tensorflow is a deep learning framwork developed by Google, and Keras is a frontend library built on top of Tensorflow (or Theano, CNTK) to provide an easier way to use standard layers and networks.\n",
        "\n",
        "To complete this exercise, you will need to build deep learning models for word tokenization in Thai (แบ่งเว้นวรรคภาษาไทย) using NECTEC's BEST corpus. You will build one model for each of the following type:\n",
        "- Fully Connected (Feedforward) Neural Network\n",
        "- One-Dimentional Convolution Neural Network (1D-CNN)\n",
        "- Recurrent Neural Network with Gated Recurrent Unit (GRU)\n",
        "\n",
        "and one more model of your choice to achieve the highest score possible.\n",
        "\n",
        "We provide the code for data cleaning and some starter code for keras in this notebook but feel free to modify those parts to suit your needs. You can also complete this exercise using only Tensorflow (without using Keras). Feel free to use additional libraries (e.g. scikit-learn) as long as you have a model for each type mentioned above.\n",
        "\n",
        "This notebook assumes you have already installed Tensorflow and Keras with python3 and had GPU enabled. If you run this exercise on GCloud using the provided disk image you are all set.\n",
        "\n",
        "As a reminder,\n",
        "\n",
        "### Don't forget to shut down your instance on Gcloud when you are not using it ###"
      ]
    },
    {
      "cell_type": "code",
      "metadata": {
        "id": "aNHv8_JiGEyX",
        "colab_type": "code",
        "colab": {}
      },
      "source": [
        "# Run setup code\n",
        "import os\n",
        "import numpy as np\n",
        "import pandas as pd\n",
        "import matplotlib.pyplot as plt\n",
        "\n",
        "from IPython.core.debugger import set_trace\n",
        "\n",
        "%matplotlib inline"
      ],
      "execution_count": 1,
      "outputs": []
    },
    {
      "cell_type": "code",
      "metadata": {
        "id": "UEmc3ADcJmV8",
        "colab_type": "code",
        "colab": {}
      },
      "source": [
        ""
      ],
      "execution_count": 1,
      "outputs": []
    },
    {
      "cell_type": "code",
      "metadata": {
        "id": "zM7AeOyTMZmt",
        "colab_type": "code",
        "colab": {}
      },
      "source": [
        "# ! pip install gdown -q"
      ],
      "execution_count": 2,
      "outputs": []
    },
    {
      "cell_type": "code",
      "metadata": {
        "id": "7f9c8uHSJmAR",
        "colab_type": "code",
        "colab": {}
      },
      "source": [
        "# ! gdown https://drive.google.com/uc?id=1iodAqVNWEkiJgH8cWkccsLi_tqoFcMrV\n",
        "# ! tar -xf corpora.tar.gz"
      ],
      "execution_count": 3,
      "outputs": []
    },
    {
      "cell_type": "code",
      "metadata": {
        "id": "QFOlkPttK0Ts",
        "colab_type": "code",
        "colab": {}
      },
      "source": [
        ""
      ],
      "execution_count": 3,
      "outputs": []
    },
    {
      "cell_type": "code",
      "metadata": {
        "id": "qc9rJQvAGEye",
        "colab_type": "code",
        "colab": {}
      },
      "source": [
        "# # Prepare data\n",
        "# # You don't need to run the following code as we already did it for you to give everyone the same dataset\n",
        "# import cattern.data_utils\n",
        "# cattern.data_utils.generate_best_dataset(os.getcwd()+'/data', create_val=True)"
      ],
      "execution_count": 4,
      "outputs": []
    },
    {
      "cell_type": "markdown",
      "metadata": {
        "id": "y7QT-L3OGEyj",
        "colab_type": "text"
      },
      "source": [
        "For simplicity, we are going to build a word tokenization model which is a binary classification model trying to predict whether a character is the begining of the word or not (if it is, then there is a space in front of it) and without using any knowledge about type of character (vowel, number, English character etc.).\n",
        "\n",
        "For example,\n",
        "\n",
        "'แมวดำน่ารักมาก' -> 'แมว ดำ น่า รัก มาก'\n",
        "\n",
        "will have these true labels:\n",
        "\n",
        "[(แ,1), (ม,0), (ว,0) (ด,1), ( ำ,0), (น,1), (-่,0), (า,0), (ร,1), (-ั,0), (ก,0), (ม,1), (า,0), (ก,0)]\n",
        "\n",
        "In this task, we will use only main character you are trying to predict  and the characters that surround it (the context) as features. However, you can imagine that a more complex model will try to include more knowledge about each character into the model. You can do that too if you feel like it."
      ]
    },
    {
      "cell_type": "code",
      "metadata": {
        "id": "2i7FbbJ9GEyk",
        "colab_type": "code",
        "colab": {}
      },
      "source": [
        "# Create a character map\n",
        "CHARS = [\n",
        "  '\\n', ' ', '!', '\"', '#', '$', '%', '&', \"'\", '(', ')', '*', '+',\n",
        "  ',', '-', '.', '/', '0', '1', '2', '3', '4', '5', '6', '7', '8',\n",
        "  '9', ':', ';', '<', '=', '>', '?', '@', 'A', 'B', 'C', 'D', 'E',\n",
        "  'F', 'G', 'H', 'I', 'J', 'K', 'L', 'M', 'N', 'O', 'P', 'Q', 'R',\n",
        "  'S', 'T', 'U', 'V', 'W', 'X', 'Y', 'Z', '[', '\\\\', ']', '^', '_',\n",
        "  'a', 'b', 'c', 'd', 'e', 'f', 'g', 'h', 'i', 'j', 'k', 'l', 'm',\n",
        "  'n', 'o', 'other', 'p', 'q', 'r', 's', 't', 'u', 'v', 'w', 'x', 'y',\n",
        "  'z', '}', '~', 'ก', 'ข', 'ฃ', 'ค', 'ฅ', 'ฆ', 'ง', 'จ', 'ฉ', 'ช',\n",
        "  'ซ', 'ฌ', 'ญ', 'ฎ', 'ฏ', 'ฐ', 'ฑ', 'ฒ', 'ณ', 'ด', 'ต', 'ถ', 'ท',\n",
        "  'ธ', 'น', 'บ', 'ป', 'ผ', 'ฝ', 'พ', 'ฟ', 'ภ', 'ม', 'ย', 'ร', 'ฤ',\n",
        "  'ล', 'ว', 'ศ', 'ษ', 'ส', 'ห', 'ฬ', 'อ', 'ฮ', 'ฯ', 'ะ', 'ั', 'า',\n",
        "  'ำ', 'ิ', 'ี', 'ึ', 'ื', 'ุ', 'ู', 'ฺ', 'เ', 'แ', 'โ', 'ใ', 'ไ',\n",
        "  'ๅ', 'ๆ', '็', '่', '้', '๊', '๋', '์', 'ํ', '๐', '๑', '๒', '๓',\n",
        "  '๔', '๕', '๖', '๗', '๘', '๙', '‘', '’', '\\ufeff'\n",
        "]\n",
        "CHARS_MAP = {v: k for k, v in enumerate(CHARS)}"
      ],
      "execution_count": 5,
      "outputs": []
    },
    {
      "cell_type": "code",
      "metadata": {
        "id": "HuDvHT-OShV6",
        "colab_type": "code",
        "colab": {}
      },
      "source": [
        "# CHARS[80], len(CHARS_MAP), CHARS_MAP"
      ],
      "execution_count": 6,
      "outputs": []
    },
    {
      "cell_type": "code",
      "metadata": {
        "id": "Bz01MSg9GEyp",
        "colab_type": "code",
        "colab": {}
      },
      "source": [
        "def create_n_gram_df(df, n_pad):\n",
        "  \"\"\"\n",
        "  Given an input dataframe, create a feature dataframe of shifted characters\n",
        "  Input:\n",
        "  df: timeseries of size (N)\n",
        "  n_pad: the number of context. For a given character at position [idx],\n",
        "    character at position [idx-n_pad/2 : idx+n_pad/2] will be used \n",
        "    as features for that character.\n",
        "  \n",
        "  Output:\n",
        "  dataframe of size (N * n_pad) which each row contains the character, \n",
        "    n_pad_2 characters to the left, and n_pad_2 characters to the right\n",
        "    of that character.\n",
        "  \"\"\"\n",
        "  n_pad_2 = int((n_pad - 1)/2)\n",
        "  for i in range(n_pad_2):\n",
        "      df['char-{}'.format(i+1)] = df['char'].shift(i + 1)\n",
        "      df['char{}'.format(i+1)] = df['char'].shift(-i - 1)\n",
        "  return df[n_pad_2: -n_pad_2]"
      ],
      "execution_count": 7,
      "outputs": []
    },
    {
      "cell_type": "code",
      "metadata": {
        "id": "tXtDsGHEGEyu",
        "colab_type": "code",
        "colab": {}
      },
      "source": [
        "def prepare_feature(best_processed_path, option='train'):\n",
        "  \"\"\"\n",
        "  Transform the path to a directory containing processed files \n",
        "  into a feature matrix and output array\n",
        "  Input:\n",
        "  best_processed_path: str, path to a processed version of the BEST dataset\n",
        "  option: str, 'train' or 'test'\n",
        "  \"\"\"\n",
        "  # we use padding equals 21 here to consider 10 characters to the left\n",
        "  # and 10 characters to the right as features for the character in the middle\n",
        "  n_pad = 21\n",
        "  n_pad_2 = int((n_pad - 1)/2)\n",
        "  pad = [{'char': ' ', 'target': True}]\n",
        "  df_pad = pd.DataFrame(pad * n_pad_2)\n",
        "#   print(df_pad)\n",
        "\n",
        "  dfs = []\n",
        "  # article types in BEST corpus\n",
        "  article_types = ['novel', 'news']\n",
        "#   article_types = ['article', 'encyclopedia', 'news', 'novel']\n",
        "  for article_type in article_types:\n",
        "      dfs.append(pd.read_csv(os.path.join(best_processed_path, option, 'df_best_{}_{}.csv'.format(article_type, option))))\n",
        "\n",
        "#   set_trace()\n",
        "  df = pd.concat(dfs)\n",
        "  # pad with empty string feature\n",
        "  df = pd.concat((df_pad, df, df_pad))\n",
        "\n",
        "  # map characters to numbers, use 'other' if not in the predefined character set.\n",
        "  df['char'] = df['char'].map(lambda x: CHARS_MAP.get(x, 80))\n",
        "\n",
        "  # Use nearby characters as features\n",
        "  df_with_context = create_n_gram_df(df, n_pad=n_pad)\n",
        "\n",
        "  char_row = ['char' + str(i + 1) for i in range(n_pad_2)] + \\\n",
        "             ['char-' + str(i + 1) for i in range(n_pad_2)] + ['char']\n",
        "\n",
        "  # convert pandas dataframe to numpy array to feed to the model\n",
        "  x_char = df_with_context[char_row]#.values()\n",
        "  y = df_with_context['target'].astype(int)#.values()\n",
        "\n",
        "  return x_char, y"
      ],
      "execution_count": 8,
      "outputs": []
    },
    {
      "cell_type": "markdown",
      "metadata": {
        "id": "QLLL6eoXGEyz",
        "colab_type": "text"
      },
      "source": [
        "Before running the following commands, we must inform you that our data is quite large and loading the whole dataset at once will **use a lot of memory (~6 GB after processing and up to ~12GB while processing)**. We expect you to be running this on Google Cloud so that you will not run into this problem. But, if, for any reason, you have to run this on your PC or machine with not enough memory, you might need to write a data generator to process a few entries at a time then feed it to the model while training.\n",
        "\n",
        "For keras, you can use [fit_generator](https://keras.io/getting-started/faq/#how-can-i-use-keras-with-datasets-that-dont-fit-in-memory) to cope with that."
      ]
    },
    {
      "cell_type": "code",
      "metadata": {
        "id": "_onZeHstGEy0",
        "colab_type": "code",
        "colab": {}
      },
      "source": [
        "# Path to the preprocessed data\n",
        "best_processed_path = 'corpora/BEST'"
      ],
      "execution_count": 9,
      "outputs": []
    },
    {
      "cell_type": "code",
      "metadata": {
        "id": "_CnR73npNYbc",
        "colab_type": "code",
        "colab": {}
      },
      "source": [
        "# prepare_feature??"
      ],
      "execution_count": 10,
      "outputs": []
    },
    {
      "cell_type": "code",
      "metadata": {
        "id": "P2sBe8zYGEy7",
        "colab_type": "code",
        "colab": {
          "base_uri": "https://localhost:8080/",
          "height": 119
        },
        "outputId": "afb721f6-712d-4bf1-b538-054352224a75"
      },
      "source": [
        "# Load preprocessed BEST corpus\n",
        "x_train_char, y_train = prepare_feature(best_processed_path, option='train')\n",
        "x_val_char, y_val = prepare_feature(best_processed_path, option='val')\n",
        "x_test_char, y_test = prepare_feature(best_processed_path, option='test')\n",
        "\n",
        "# As a sanity check, we print out the size of the training, val, and test data.\n",
        "print('Training data shape: ', x_train_char.shape)\n",
        "print('Training data labels shape: ', y_train.shape)\n",
        "print('Validation data shape: ', x_val_char.shape)\n",
        "print('Validation data labels shape: ', y_val.shape)\n",
        "print('Test data shape: ', x_test_char.shape)\n",
        "print('Test data labels shape: ', y_test.shape)"
      ],
      "execution_count": 11,
      "outputs": [
        {
          "output_type": "stream",
          "text": [
            "Training data shape:  (9552804, 21)\n",
            "Training data labels shape:  (9552804,)\n",
            "Validation data shape:  (1113493, 21)\n",
            "Validation data labels shape:  (1113493,)\n",
            "Test data shape:  (1324421, 21)\n",
            "Test data labels shape:  (1324421,)\n"
          ],
          "name": "stdout"
        }
      ]
    },
    {
      "cell_type": "code",
      "metadata": {
        "id": "XT7_OjroW02w",
        "colab_type": "code",
        "colab": {}
      },
      "source": [
        ""
      ],
      "execution_count": 11,
      "outputs": []
    },
    {
      "cell_type": "code",
      "metadata": {
        "id": "Y8O40UnQGEzA",
        "colab_type": "code",
        "colab": {
          "base_uri": "https://localhost:8080/",
          "height": 196
        },
        "outputId": "ebe81934-2fe0-4283-ebf1-1adafd945649"
      },
      "source": [
        "# Print some entry from the data to make sure it is the same as what you think.\n",
        "print('First 3 features: ')\n",
        "x_train_char[:3]"
      ],
      "execution_count": 12,
      "outputs": [
        {
          "output_type": "stream",
          "text": [
            "First 3 features: \n"
          ],
          "name": "stdout"
        },
        {
          "output_type": "execute_result",
          "data": {
            "text/html": [
              "<div>\n",
              "<style scoped>\n",
              "    .dataframe tbody tr th:only-of-type {\n",
              "        vertical-align: middle;\n",
              "    }\n",
              "\n",
              "    .dataframe tbody tr th {\n",
              "        vertical-align: top;\n",
              "    }\n",
              "\n",
              "    .dataframe thead th {\n",
              "        text-align: right;\n",
              "    }\n",
              "</style>\n",
              "<table border=\"1\" class=\"dataframe\">\n",
              "  <thead>\n",
              "    <tr style=\"text-align: right;\">\n",
              "      <th></th>\n",
              "      <th>char1</th>\n",
              "      <th>char2</th>\n",
              "      <th>char3</th>\n",
              "      <th>char4</th>\n",
              "      <th>char5</th>\n",
              "      <th>char6</th>\n",
              "      <th>char7</th>\n",
              "      <th>char8</th>\n",
              "      <th>char9</th>\n",
              "      <th>char10</th>\n",
              "      <th>char-1</th>\n",
              "      <th>char-2</th>\n",
              "      <th>char-3</th>\n",
              "      <th>char-4</th>\n",
              "      <th>char-5</th>\n",
              "      <th>char-6</th>\n",
              "      <th>char-7</th>\n",
              "      <th>char-8</th>\n",
              "      <th>char-9</th>\n",
              "      <th>char-10</th>\n",
              "      <th>char</th>\n",
              "    </tr>\n",
              "  </thead>\n",
              "  <tbody>\n",
              "    <tr>\n",
              "      <th>0</th>\n",
              "      <td>119.0</td>\n",
              "      <td>145.0</td>\n",
              "      <td>126.0</td>\n",
              "      <td>135.0</td>\n",
              "      <td>130.0</td>\n",
              "      <td>141.0</td>\n",
              "      <td>119.0</td>\n",
              "      <td>155.0</td>\n",
              "      <td>120.0</td>\n",
              "      <td>152.0</td>\n",
              "      <td>1.0</td>\n",
              "      <td>1.0</td>\n",
              "      <td>1.0</td>\n",
              "      <td>1.0</td>\n",
              "      <td>1.0</td>\n",
              "      <td>1.0</td>\n",
              "      <td>1.0</td>\n",
              "      <td>1.0</td>\n",
              "      <td>1.0</td>\n",
              "      <td>1.0</td>\n",
              "      <td>172</td>\n",
              "    </tr>\n",
              "    <tr>\n",
              "      <th>1</th>\n",
              "      <td>145.0</td>\n",
              "      <td>126.0</td>\n",
              "      <td>135.0</td>\n",
              "      <td>130.0</td>\n",
              "      <td>141.0</td>\n",
              "      <td>119.0</td>\n",
              "      <td>155.0</td>\n",
              "      <td>120.0</td>\n",
              "      <td>152.0</td>\n",
              "      <td>130.0</td>\n",
              "      <td>172.0</td>\n",
              "      <td>1.0</td>\n",
              "      <td>1.0</td>\n",
              "      <td>1.0</td>\n",
              "      <td>1.0</td>\n",
              "      <td>1.0</td>\n",
              "      <td>1.0</td>\n",
              "      <td>1.0</td>\n",
              "      <td>1.0</td>\n",
              "      <td>1.0</td>\n",
              "      <td>119</td>\n",
              "    </tr>\n",
              "    <tr>\n",
              "      <th>2</th>\n",
              "      <td>126.0</td>\n",
              "      <td>135.0</td>\n",
              "      <td>130.0</td>\n",
              "      <td>141.0</td>\n",
              "      <td>119.0</td>\n",
              "      <td>155.0</td>\n",
              "      <td>120.0</td>\n",
              "      <td>152.0</td>\n",
              "      <td>130.0</td>\n",
              "      <td>160.0</td>\n",
              "      <td>119.0</td>\n",
              "      <td>172.0</td>\n",
              "      <td>1.0</td>\n",
              "      <td>1.0</td>\n",
              "      <td>1.0</td>\n",
              "      <td>1.0</td>\n",
              "      <td>1.0</td>\n",
              "      <td>1.0</td>\n",
              "      <td>1.0</td>\n",
              "      <td>1.0</td>\n",
              "      <td>145</td>\n",
              "    </tr>\n",
              "  </tbody>\n",
              "</table>\n",
              "</div>"
            ],
            "text/plain": [
              "   char1  char2  char3  char4  char5  ...  char-7  char-8  char-9  char-10  char\n",
              "0  119.0  145.0  126.0  135.0  130.0  ...     1.0     1.0     1.0      1.0   172\n",
              "1  145.0  126.0  135.0  130.0  141.0  ...     1.0     1.0     1.0      1.0   119\n",
              "2  126.0  135.0  130.0  141.0  119.0  ...     1.0     1.0     1.0      1.0   145\n",
              "\n",
              "[3 rows x 21 columns]"
            ]
          },
          "metadata": {
            "tags": []
          },
          "execution_count": 12
        }
      ]
    },
    {
      "cell_type": "code",
      "metadata": {
        "id": "AoDsHOfIiW0N",
        "colab_type": "code",
        "colab": {
          "base_uri": "https://localhost:8080/",
          "height": 561
        },
        "outputId": "adb7c445-d4d9-4a2b-8585-0d4ed10f93e3"
      },
      "source": [
        "print('First 30 class labels')\n",
        "y_train[:30]"
      ],
      "execution_count": 13,
      "outputs": [
        {
          "output_type": "stream",
          "text": [
            "First 30 class labels\n"
          ],
          "name": "stdout"
        },
        {
          "output_type": "execute_result",
          "data": {
            "text/plain": [
              "0     1\n",
              "1     1\n",
              "2     0\n",
              "3     0\n",
              "4     1\n",
              "5     0\n",
              "6     0\n",
              "7     0\n",
              "8     1\n",
              "9     0\n",
              "10    1\n",
              "11    0\n",
              "12    0\n",
              "13    0\n",
              "14    1\n",
              "15    0\n",
              "16    0\n",
              "17    0\n",
              "18    0\n",
              "19    1\n",
              "20    0\n",
              "21    0\n",
              "22    0\n",
              "23    0\n",
              "24    1\n",
              "25    0\n",
              "26    0\n",
              "27    0\n",
              "28    1\n",
              "29    0\n",
              "Name: target, dtype: int64"
            ]
          },
          "metadata": {
            "tags": []
          },
          "execution_count": 13
        }
      ]
    },
    {
      "cell_type": "code",
      "metadata": {
        "id": "r0yvchWZkLMJ",
        "colab_type": "code",
        "colab": {
          "base_uri": "https://localhost:8080/",
          "height": 551
        },
        "outputId": "eba5a0f6-0738-4876-821a-147e51917be0"
      },
      "source": [
        "x_train_char.head(15)"
      ],
      "execution_count": 14,
      "outputs": [
        {
          "output_type": "execute_result",
          "data": {
            "text/html": [
              "<div>\n",
              "<style scoped>\n",
              "    .dataframe tbody tr th:only-of-type {\n",
              "        vertical-align: middle;\n",
              "    }\n",
              "\n",
              "    .dataframe tbody tr th {\n",
              "        vertical-align: top;\n",
              "    }\n",
              "\n",
              "    .dataframe thead th {\n",
              "        text-align: right;\n",
              "    }\n",
              "</style>\n",
              "<table border=\"1\" class=\"dataframe\">\n",
              "  <thead>\n",
              "    <tr style=\"text-align: right;\">\n",
              "      <th></th>\n",
              "      <th>char1</th>\n",
              "      <th>char2</th>\n",
              "      <th>char3</th>\n",
              "      <th>char4</th>\n",
              "      <th>char5</th>\n",
              "      <th>char6</th>\n",
              "      <th>char7</th>\n",
              "      <th>char8</th>\n",
              "      <th>char9</th>\n",
              "      <th>char10</th>\n",
              "      <th>char-1</th>\n",
              "      <th>char-2</th>\n",
              "      <th>char-3</th>\n",
              "      <th>char-4</th>\n",
              "      <th>char-5</th>\n",
              "      <th>char-6</th>\n",
              "      <th>char-7</th>\n",
              "      <th>char-8</th>\n",
              "      <th>char-9</th>\n",
              "      <th>char-10</th>\n",
              "      <th>char</th>\n",
              "    </tr>\n",
              "  </thead>\n",
              "  <tbody>\n",
              "    <tr>\n",
              "      <th>0</th>\n",
              "      <td>119.0</td>\n",
              "      <td>145.0</td>\n",
              "      <td>126.0</td>\n",
              "      <td>135.0</td>\n",
              "      <td>130.0</td>\n",
              "      <td>141.0</td>\n",
              "      <td>119.0</td>\n",
              "      <td>155.0</td>\n",
              "      <td>120.0</td>\n",
              "      <td>152.0</td>\n",
              "      <td>1.0</td>\n",
              "      <td>1.0</td>\n",
              "      <td>1.0</td>\n",
              "      <td>1.0</td>\n",
              "      <td>1.0</td>\n",
              "      <td>1.0</td>\n",
              "      <td>1.0</td>\n",
              "      <td>1.0</td>\n",
              "      <td>1.0</td>\n",
              "      <td>1.0</td>\n",
              "      <td>172</td>\n",
              "    </tr>\n",
              "    <tr>\n",
              "      <th>1</th>\n",
              "      <td>145.0</td>\n",
              "      <td>126.0</td>\n",
              "      <td>135.0</td>\n",
              "      <td>130.0</td>\n",
              "      <td>141.0</td>\n",
              "      <td>119.0</td>\n",
              "      <td>155.0</td>\n",
              "      <td>120.0</td>\n",
              "      <td>152.0</td>\n",
              "      <td>130.0</td>\n",
              "      <td>172.0</td>\n",
              "      <td>1.0</td>\n",
              "      <td>1.0</td>\n",
              "      <td>1.0</td>\n",
              "      <td>1.0</td>\n",
              "      <td>1.0</td>\n",
              "      <td>1.0</td>\n",
              "      <td>1.0</td>\n",
              "      <td>1.0</td>\n",
              "      <td>1.0</td>\n",
              "      <td>119</td>\n",
              "    </tr>\n",
              "    <tr>\n",
              "      <th>2</th>\n",
              "      <td>126.0</td>\n",
              "      <td>135.0</td>\n",
              "      <td>130.0</td>\n",
              "      <td>141.0</td>\n",
              "      <td>119.0</td>\n",
              "      <td>155.0</td>\n",
              "      <td>120.0</td>\n",
              "      <td>152.0</td>\n",
              "      <td>130.0</td>\n",
              "      <td>160.0</td>\n",
              "      <td>119.0</td>\n",
              "      <td>172.0</td>\n",
              "      <td>1.0</td>\n",
              "      <td>1.0</td>\n",
              "      <td>1.0</td>\n",
              "      <td>1.0</td>\n",
              "      <td>1.0</td>\n",
              "      <td>1.0</td>\n",
              "      <td>1.0</td>\n",
              "      <td>1.0</td>\n",
              "      <td>145</td>\n",
              "    </tr>\n",
              "    <tr>\n",
              "      <th>3</th>\n",
              "      <td>135.0</td>\n",
              "      <td>130.0</td>\n",
              "      <td>141.0</td>\n",
              "      <td>119.0</td>\n",
              "      <td>155.0</td>\n",
              "      <td>120.0</td>\n",
              "      <td>152.0</td>\n",
              "      <td>130.0</td>\n",
              "      <td>160.0</td>\n",
              "      <td>131.0</td>\n",
              "      <td>145.0</td>\n",
              "      <td>119.0</td>\n",
              "      <td>172.0</td>\n",
              "      <td>1.0</td>\n",
              "      <td>1.0</td>\n",
              "      <td>1.0</td>\n",
              "      <td>1.0</td>\n",
              "      <td>1.0</td>\n",
              "      <td>1.0</td>\n",
              "      <td>1.0</td>\n",
              "      <td>126</td>\n",
              "    </tr>\n",
              "    <tr>\n",
              "      <th>4</th>\n",
              "      <td>130.0</td>\n",
              "      <td>141.0</td>\n",
              "      <td>119.0</td>\n",
              "      <td>155.0</td>\n",
              "      <td>120.0</td>\n",
              "      <td>152.0</td>\n",
              "      <td>130.0</td>\n",
              "      <td>160.0</td>\n",
              "      <td>131.0</td>\n",
              "      <td>151.0</td>\n",
              "      <td>126.0</td>\n",
              "      <td>145.0</td>\n",
              "      <td>119.0</td>\n",
              "      <td>172.0</td>\n",
              "      <td>1.0</td>\n",
              "      <td>1.0</td>\n",
              "      <td>1.0</td>\n",
              "      <td>1.0</td>\n",
              "      <td>1.0</td>\n",
              "      <td>1.0</td>\n",
              "      <td>135</td>\n",
              "    </tr>\n",
              "    <tr>\n",
              "      <th>5</th>\n",
              "      <td>141.0</td>\n",
              "      <td>119.0</td>\n",
              "      <td>155.0</td>\n",
              "      <td>120.0</td>\n",
              "      <td>152.0</td>\n",
              "      <td>130.0</td>\n",
              "      <td>160.0</td>\n",
              "      <td>131.0</td>\n",
              "      <td>151.0</td>\n",
              "      <td>126.0</td>\n",
              "      <td>135.0</td>\n",
              "      <td>126.0</td>\n",
              "      <td>145.0</td>\n",
              "      <td>119.0</td>\n",
              "      <td>172.0</td>\n",
              "      <td>1.0</td>\n",
              "      <td>1.0</td>\n",
              "      <td>1.0</td>\n",
              "      <td>1.0</td>\n",
              "      <td>1.0</td>\n",
              "      <td>130</td>\n",
              "    </tr>\n",
              "    <tr>\n",
              "      <th>6</th>\n",
              "      <td>119.0</td>\n",
              "      <td>155.0</td>\n",
              "      <td>120.0</td>\n",
              "      <td>152.0</td>\n",
              "      <td>130.0</td>\n",
              "      <td>160.0</td>\n",
              "      <td>131.0</td>\n",
              "      <td>151.0</td>\n",
              "      <td>126.0</td>\n",
              "      <td>147.0</td>\n",
              "      <td>130.0</td>\n",
              "      <td>135.0</td>\n",
              "      <td>126.0</td>\n",
              "      <td>145.0</td>\n",
              "      <td>119.0</td>\n",
              "      <td>172.0</td>\n",
              "      <td>1.0</td>\n",
              "      <td>1.0</td>\n",
              "      <td>1.0</td>\n",
              "      <td>1.0</td>\n",
              "      <td>141</td>\n",
              "    </tr>\n",
              "    <tr>\n",
              "      <th>7</th>\n",
              "      <td>155.0</td>\n",
              "      <td>120.0</td>\n",
              "      <td>152.0</td>\n",
              "      <td>130.0</td>\n",
              "      <td>160.0</td>\n",
              "      <td>131.0</td>\n",
              "      <td>151.0</td>\n",
              "      <td>126.0</td>\n",
              "      <td>147.0</td>\n",
              "      <td>159.0</td>\n",
              "      <td>141.0</td>\n",
              "      <td>130.0</td>\n",
              "      <td>135.0</td>\n",
              "      <td>126.0</td>\n",
              "      <td>145.0</td>\n",
              "      <td>119.0</td>\n",
              "      <td>172.0</td>\n",
              "      <td>1.0</td>\n",
              "      <td>1.0</td>\n",
              "      <td>1.0</td>\n",
              "      <td>119</td>\n",
              "    </tr>\n",
              "    <tr>\n",
              "      <th>8</th>\n",
              "      <td>120.0</td>\n",
              "      <td>152.0</td>\n",
              "      <td>130.0</td>\n",
              "      <td>160.0</td>\n",
              "      <td>131.0</td>\n",
              "      <td>151.0</td>\n",
              "      <td>126.0</td>\n",
              "      <td>147.0</td>\n",
              "      <td>159.0</td>\n",
              "      <td>137.0</td>\n",
              "      <td>119.0</td>\n",
              "      <td>141.0</td>\n",
              "      <td>130.0</td>\n",
              "      <td>135.0</td>\n",
              "      <td>126.0</td>\n",
              "      <td>145.0</td>\n",
              "      <td>119.0</td>\n",
              "      <td>172.0</td>\n",
              "      <td>1.0</td>\n",
              "      <td>1.0</td>\n",
              "      <td>155</td>\n",
              "    </tr>\n",
              "    <tr>\n",
              "      <th>9</th>\n",
              "      <td>152.0</td>\n",
              "      <td>130.0</td>\n",
              "      <td>160.0</td>\n",
              "      <td>131.0</td>\n",
              "      <td>151.0</td>\n",
              "      <td>126.0</td>\n",
              "      <td>147.0</td>\n",
              "      <td>159.0</td>\n",
              "      <td>137.0</td>\n",
              "      <td>118.0</td>\n",
              "      <td>155.0</td>\n",
              "      <td>119.0</td>\n",
              "      <td>141.0</td>\n",
              "      <td>130.0</td>\n",
              "      <td>135.0</td>\n",
              "      <td>126.0</td>\n",
              "      <td>145.0</td>\n",
              "      <td>119.0</td>\n",
              "      <td>172.0</td>\n",
              "      <td>1.0</td>\n",
              "      <td>120</td>\n",
              "    </tr>\n",
              "    <tr>\n",
              "      <th>10</th>\n",
              "      <td>130.0</td>\n",
              "      <td>160.0</td>\n",
              "      <td>131.0</td>\n",
              "      <td>151.0</td>\n",
              "      <td>126.0</td>\n",
              "      <td>147.0</td>\n",
              "      <td>159.0</td>\n",
              "      <td>137.0</td>\n",
              "      <td>118.0</td>\n",
              "      <td>144.0</td>\n",
              "      <td>120.0</td>\n",
              "      <td>155.0</td>\n",
              "      <td>119.0</td>\n",
              "      <td>141.0</td>\n",
              "      <td>130.0</td>\n",
              "      <td>135.0</td>\n",
              "      <td>126.0</td>\n",
              "      <td>145.0</td>\n",
              "      <td>119.0</td>\n",
              "      <td>172.0</td>\n",
              "      <td>152</td>\n",
              "    </tr>\n",
              "    <tr>\n",
              "      <th>11</th>\n",
              "      <td>160.0</td>\n",
              "      <td>131.0</td>\n",
              "      <td>151.0</td>\n",
              "      <td>126.0</td>\n",
              "      <td>147.0</td>\n",
              "      <td>159.0</td>\n",
              "      <td>137.0</td>\n",
              "      <td>118.0</td>\n",
              "      <td>144.0</td>\n",
              "      <td>130.0</td>\n",
              "      <td>152.0</td>\n",
              "      <td>120.0</td>\n",
              "      <td>155.0</td>\n",
              "      <td>119.0</td>\n",
              "      <td>141.0</td>\n",
              "      <td>130.0</td>\n",
              "      <td>135.0</td>\n",
              "      <td>126.0</td>\n",
              "      <td>145.0</td>\n",
              "      <td>119.0</td>\n",
              "      <td>130</td>\n",
              "    </tr>\n",
              "    <tr>\n",
              "      <th>12</th>\n",
              "      <td>131.0</td>\n",
              "      <td>151.0</td>\n",
              "      <td>126.0</td>\n",
              "      <td>147.0</td>\n",
              "      <td>159.0</td>\n",
              "      <td>137.0</td>\n",
              "      <td>118.0</td>\n",
              "      <td>144.0</td>\n",
              "      <td>130.0</td>\n",
              "      <td>130.0</td>\n",
              "      <td>130.0</td>\n",
              "      <td>152.0</td>\n",
              "      <td>120.0</td>\n",
              "      <td>155.0</td>\n",
              "      <td>119.0</td>\n",
              "      <td>141.0</td>\n",
              "      <td>130.0</td>\n",
              "      <td>135.0</td>\n",
              "      <td>126.0</td>\n",
              "      <td>145.0</td>\n",
              "      <td>160</td>\n",
              "    </tr>\n",
              "    <tr>\n",
              "      <th>13</th>\n",
              "      <td>151.0</td>\n",
              "      <td>126.0</td>\n",
              "      <td>147.0</td>\n",
              "      <td>159.0</td>\n",
              "      <td>137.0</td>\n",
              "      <td>118.0</td>\n",
              "      <td>144.0</td>\n",
              "      <td>130.0</td>\n",
              "      <td>130.0</td>\n",
              "      <td>142.0</td>\n",
              "      <td>160.0</td>\n",
              "      <td>130.0</td>\n",
              "      <td>152.0</td>\n",
              "      <td>120.0</td>\n",
              "      <td>155.0</td>\n",
              "      <td>119.0</td>\n",
              "      <td>141.0</td>\n",
              "      <td>130.0</td>\n",
              "      <td>135.0</td>\n",
              "      <td>126.0</td>\n",
              "      <td>131</td>\n",
              "    </tr>\n",
              "    <tr>\n",
              "      <th>14</th>\n",
              "      <td>126.0</td>\n",
              "      <td>147.0</td>\n",
              "      <td>159.0</td>\n",
              "      <td>137.0</td>\n",
              "      <td>118.0</td>\n",
              "      <td>144.0</td>\n",
              "      <td>130.0</td>\n",
              "      <td>130.0</td>\n",
              "      <td>142.0</td>\n",
              "      <td>151.0</td>\n",
              "      <td>131.0</td>\n",
              "      <td>160.0</td>\n",
              "      <td>130.0</td>\n",
              "      <td>152.0</td>\n",
              "      <td>120.0</td>\n",
              "      <td>155.0</td>\n",
              "      <td>119.0</td>\n",
              "      <td>141.0</td>\n",
              "      <td>130.0</td>\n",
              "      <td>135.0</td>\n",
              "      <td>151</td>\n",
              "    </tr>\n",
              "  </tbody>\n",
              "</table>\n",
              "</div>"
            ],
            "text/plain": [
              "    char1  char2  char3  char4  char5  ...  char-7  char-8  char-9  char-10  char\n",
              "0   119.0  145.0  126.0  135.0  130.0  ...     1.0     1.0     1.0      1.0   172\n",
              "1   145.0  126.0  135.0  130.0  141.0  ...     1.0     1.0     1.0      1.0   119\n",
              "2   126.0  135.0  130.0  141.0  119.0  ...     1.0     1.0     1.0      1.0   145\n",
              "3   135.0  130.0  141.0  119.0  155.0  ...     1.0     1.0     1.0      1.0   126\n",
              "4   130.0  141.0  119.0  155.0  120.0  ...     1.0     1.0     1.0      1.0   135\n",
              "5   141.0  119.0  155.0  120.0  152.0  ...     1.0     1.0     1.0      1.0   130\n",
              "6   119.0  155.0  120.0  152.0  130.0  ...     1.0     1.0     1.0      1.0   141\n",
              "7   155.0  120.0  152.0  130.0  160.0  ...   172.0     1.0     1.0      1.0   119\n",
              "8   120.0  152.0  130.0  160.0  131.0  ...   119.0   172.0     1.0      1.0   155\n",
              "9   152.0  130.0  160.0  131.0  151.0  ...   145.0   119.0   172.0      1.0   120\n",
              "10  130.0  160.0  131.0  151.0  126.0  ...   126.0   145.0   119.0    172.0   152\n",
              "11  160.0  131.0  151.0  126.0  147.0  ...   135.0   126.0   145.0    119.0   130\n",
              "12  131.0  151.0  126.0  147.0  159.0  ...   130.0   135.0   126.0    145.0   160\n",
              "13  151.0  126.0  147.0  159.0  137.0  ...   141.0   130.0   135.0    126.0   131\n",
              "14  126.0  147.0  159.0  137.0  118.0  ...   119.0   141.0   130.0    135.0   151\n",
              "\n",
              "[15 rows x 21 columns]"
            ]
          },
          "metadata": {
            "tags": []
          },
          "execution_count": 14
        }
      ]
    },
    {
      "cell_type": "code",
      "metadata": {
        "id": "WEYEzX_oGEzF",
        "colab_type": "code",
        "colab": {
          "base_uri": "https://localhost:8080/",
          "height": 527
        },
        "outputId": "64405bc0-287e-4622-844b-35f84aeaf503"
      },
      "source": [
        "#print char of feature 1\n",
        "char = np.array(CHARS)\n",
        "\n",
        "#A function for displaying our features in text\n",
        "def print_features(tfeature,label,index):\n",
        "    # set_trace()\n",
        "    feature = np.array(tfeature.iloc[index],dtype=int).reshape(21,1)\n",
        "    #Convert to string\n",
        "    char_list = char[feature]\n",
        "    # print(char_list)\n",
        "    left = ''.join(reversed(char_list[10:20].reshape(10))).replace(\" \", \"\")\n",
        "    center = ''.join(char_list[20])\n",
        "    right =  ''.join(char_list[0:10].reshape(10)).replace(\" \", \"\")\n",
        "    word = ''.join([left,' ',center,' ',right])\n",
        "    print(center + ': ' + word + \"\\t pred = \"+str(label.iloc[index]))\n",
        "\n",
        "for ind in range(1000,1030):\n",
        "    print_features(x_train_char,y_train,ind)"
      ],
      "execution_count": 15,
      "outputs": [
        {
          "output_type": "stream",
          "text": [
            "ก: รหวงด้วยอา ก ารกดดันเข้\t pred = 0\n",
            "า: หวงด้วยอาก า รกดดันเข้ม\t pred = 0\n",
            "ร: วงด้วยอากา ร กดดันเข้มง\t pred = 0\n",
            "ก: งด้วยอาการ ก ดดันเข้มงว\t pred = 1\n",
            "ด: ด้วยอาการก ด ดันเข้มงวด\t pred = 0\n",
            "ด: ้วยอาการกด ด ันเข้มงวดจ\t pred = 0\n",
            "ั: วยอาการกดด ั นเข้มงวดจน\t pred = 0\n",
            "น: ยอาการกดดั น เข้มงวดจนก\t pred = 0\n",
            "เ: อาการกดดัน เ ข้มงวดจนก่\t pred = 1\n",
            "ข: าการกดดันเ ข ้มงวดจนก่อ\t pred = 0\n",
            "้: การกดดันเข ้ มงวดจนก่อใ\t pred = 0\n",
            "ม: ารกดดันเข้ ม งวดจนก่อให\t pred = 0\n",
            "ง: รกดดันเข้ม ง วดจนก่อให้\t pred = 0\n",
            "ว: กดดันเข้มง ว ดจนก่อให้เ\t pred = 0\n",
            "ด: ดดันเข้มงว ด จนก่อให้เก\t pred = 0\n",
            "จ: ดันเข้มงวด จ นก่อให้เกิ\t pred = 1\n",
            "น: ันเข้มงวดจ น ก่อให้เกิด\t pred = 0\n",
            "ก: นเข้มงวดจน ก ่อให้เกิดป\t pred = 1\n",
            "่: เข้มงวดจนก ่ อให้เกิดปฏ\t pred = 0\n",
            "อ: ข้มงวดจนก่ อ ให้เกิดปฏิ\t pred = 0\n",
            "ใ: ้มงวดจนก่อ ใ ห้เกิดปฏิก\t pred = 1\n",
            "ห: มงวดจนก่อใ ห ้เกิดปฏิกิ\t pred = 0\n",
            "้: งวดจนก่อให ้ เกิดปฏิกิร\t pred = 0\n",
            "เ: วดจนก่อให้ เ กิดปฏิกิริ\t pred = 1\n",
            "ก: ดจนก่อให้เ ก ิดปฏิกิริย\t pred = 0\n",
            "ิ: จนก่อให้เก ิ ดปฏิกิริยา\t pred = 0\n",
            "ด: นก่อให้เกิ ด ปฏิกิริยาต\t pred = 0\n",
            "ป: ก่อให้เกิด ป ฏิกิริยาตอ\t pred = 1\n",
            "ฏ: ่อให้เกิดป ฏ ิกิริยาตอบ\t pred = 0\n",
            "ิ: อให้เกิดปฏ ิ กิริยาตอบโ\t pred = 0\n"
          ],
          "name": "stdout"
        }
      ]
    },
    {
      "cell_type": "markdown",
      "metadata": {
        "id": "aQdU6t5uGEzK",
        "colab_type": "text"
      },
      "source": [
        "Now, you are going to define the model to be used as your classifier. If you are using Keras, please follow the guideline we provide below. We encourage you to use the Keras Funtional API instead of the Sequential model as it is easier to create complex models (and to read your code). You can find more about Keras Functional API on Keras [documentation](https://keras.io/getting-started/functional-api-guide/).\n",
        "\n",
        "You need to create a function that return a model you want and write code that invoke _**model.fit**_ to train your model. For example, your function ***get_nn()*** might looks like this:\n",
        "\n",
        "```python\n",
        "def get_nn():\n",
        "  input1 = Input(...)\n",
        "  ...\n",
        "  # Create your wonderful model.\n",
        "  ...\n",
        "  out = ...\n",
        "  model = Model(inputs=input1, outputs=out)\n",
        "  model.compile(...)\n",
        "return model\n",
        "```\n",
        "\n",
        "Also, beware that complex model requires more time to train and your dataset is already quite large. We tested it with a simple 1-hidden-layered feedforward nueral network and it used ~10 mins to train 1 epoch. It got more than 95% accuracy on validation set after the first epoch, so you should aim for a model with accuracy around 96-98%."
      ]
    },
    {
      "cell_type": "markdown",
      "metadata": {
        "id": "dJLdXoLOGEzL",
        "colab_type": "text"
      },
      "source": [
        "# Three-Layer Feedforward Neural Networks\n",
        "\n",
        "Below, we provide you the code for creating a 3-layer fully connected neural network in keras. This will also serve as the baseline for your other models. Run the code below while making sure you understand what you are doing. Then, report the results."
      ]
    },
    {
      "cell_type": "code",
      "metadata": {
        "id": "ztL2tY3lGEzM",
        "colab_type": "code",
        "colab": {}
      },
      "source": [
        "from keras.models import Model\n",
        "from keras.layers import Input, Dense\n",
        "from keras.optimizers import Adam\n",
        "\n",
        "def get_feedforward_nn():\n",
        "  input1 = Input(shape=(21,))\n",
        "  x = Dense(100, activation='relu')(input1)\n",
        "  x = Dense(100, activation='relu')(x)\n",
        "  x = Dense(100, activation='relu')(x)\n",
        "  out = Dense(1, activation='sigmoid')(x)\n",
        "\n",
        "  model = Model(inputs=input1, outputs=out)\n",
        "  model.compile(optimizer=Adam(),\n",
        "                loss='binary_crossentropy',\n",
        "                metrics=['acc'])\n",
        "  return model"
      ],
      "execution_count": 16,
      "outputs": []
    },
    {
      "cell_type": "code",
      "metadata": {
        "id": "syDtDTzLGEzR",
        "colab_type": "code",
        "colab": {
          "base_uri": "https://localhost:8080/",
          "height": 360
        },
        "outputId": "8cd07a5b-f6bd-4e64-aa39-adf861118276"
      },
      "source": [
        "from keras.callbacks import ModelCheckpoint, TensorBoard\n",
        "\n",
        "# This is called to clear the original model session in order to use TensorBoard\n",
        "from keras import backend as K\n",
        "K.clear_session()\n",
        "\n",
        "# Path to save model parameters\n",
        "weight_path_feedforward_nn='/data/model_weight_feedforward_nn.h5'\n",
        "\n",
        "# Training callbacks list. TensorBoard() write logs for tensorboard GUI. \n",
        "# ModelCheckpoint() writes the resulting model.\n",
        "# Note that writing to disk takes time (longer than model training time). \n",
        "# For other sections, you might not writing any files to disk \n",
        "# or write only the graph for TensorBoard.\n",
        "callbacks_list_feedforward_nn = [\n",
        "        TensorBoard(log_dir='/data/Graph/ff', histogram_freq=1, write_graph=True, write_grads=True),\n",
        "        ModelCheckpoint(\n",
        "            weight_path_feedforward_nn,\n",
        "            save_best_only=True,\n",
        "            save_weights_only=True,\n",
        "            monitor='val_loss',\n",
        "            mode='min',\n",
        "            verbose=1\n",
        "        )\n",
        "  ]\n",
        "\n",
        "print('start training')\n",
        "verbose = 1\n",
        "model_feedforward_nn = get_feedforward_nn()\n",
        "train_params = [(3, 512)]\n",
        "for (epochs, batch_size) in train_params:\n",
        "  print(\"train with {} epochs and {} batch size\".format(epochs, batch_size))\n",
        "  model_feedforward_nn.fit(x_train_char, y_train, epochs=epochs, batch_size=batch_size, verbose=verbose,\n",
        "                           callbacks=callbacks_list_feedforward_nn,\n",
        "                           validation_data=(x_val_char, y_val))"
      ],
      "execution_count": 17,
      "outputs": [
        {
          "output_type": "stream",
          "text": [
            "WARNING:tensorflow:`write_grads` will be ignored in TensorFlow 2.0 for the `TensorBoard` Callback.\n",
            "start training\n",
            "train with 3 epochs and 512 batch size\n",
            "Epoch 1/3\n",
            "    1/18658 [..............................] - ETA: 2s - loss: 2.8890 - acc: 0.7227WARNING:tensorflow:From /usr/local/lib/python3.6/dist-packages/tensorflow/python/ops/summary_ops_v2.py:1277: stop (from tensorflow.python.eager.profiler) is deprecated and will be removed after 2020-07-01.\n",
            "Instructions for updating:\n",
            "use `tf.profiler.experimental.stop` instead.\n",
            "WARNING:tensorflow:Callbacks method `on_train_batch_end` is slow compared to the batch time (batch time: 0.0155s vs `on_train_batch_end` time: 0.0238s). Check your callbacks.\n",
            "18652/18658 [============================>.] - ETA: 0s - loss: 0.3839 - acc: 0.8314\n",
            "Epoch 00001: val_loss improved from inf to 0.32251, saving model to /data/model_weight_feedforward_nn.h5\n",
            "18658/18658 [==============================] - 99s 5ms/step - loss: 0.3839 - acc: 0.8314 - val_loss: 0.3225 - val_acc: 0.8580\n",
            "Epoch 2/3\n",
            "18658/18658 [==============================] - ETA: 0s - loss: 0.3038 - acc: 0.8675\n",
            "Epoch 00002: val_loss improved from 0.32251 to 0.29362, saving model to /data/model_weight_feedforward_nn.h5\n",
            "18658/18658 [==============================] - 95s 5ms/step - loss: 0.3038 - acc: 0.8675 - val_loss: 0.2936 - val_acc: 0.8732\n",
            "Epoch 3/3\n",
            "18655/18658 [============================>.] - ETA: 0s - loss: 0.2741 - acc: 0.8830\n",
            "Epoch 00003: val_loss improved from 0.29362 to 0.26603, saving model to /data/model_weight_feedforward_nn.h5\n",
            "18658/18658 [==============================] - 98s 5ms/step - loss: 0.2741 - acc: 0.8830 - val_loss: 0.2660 - val_acc: 0.8869\n"
          ],
          "name": "stdout"
        }
      ]
    },
    {
      "cell_type": "code",
      "metadata": {
        "id": "BjXqtIXgGEzW",
        "colab_type": "code",
        "colab": {}
      },
      "source": [
        "################################################################################\n",
        "# In case you want to close the session, you can re-load the model by          #\n",
        "################################################################################\n",
        "# weight_path_feedforward_nn='/data/model_weight_feedforward_nn.h5'\n",
        "# model_feedforward_nn = get_feedforward_nn()\n",
        "# model_feedforward_nn.load_weights(weight_path_feedforward_nn)\n",
        "# model_feedforward_nn._make_predict_function()\n",
        "# model_feedforward_nn.summary()"
      ],
      "execution_count": 18,
      "outputs": []
    },
    {
      "cell_type": "code",
      "metadata": {
        "id": "FTFqieWRGEze",
        "colab_type": "code",
        "colab": {}
      },
      "source": [
        "from sklearn.metrics import f1_score,precision_score,recall_score\n",
        "\n",
        "################################################################################\n",
        "# Write a function to evaluate your model. Your function must make prediction  #\n",
        "# using the input model and return f-score, precision, and recall of the model.#\n",
        "# You can make predictions by calling model.predict().                         #\n",
        "################################################################################\n",
        "def evaluate(x_test, y_test, model):\n",
        "  \"\"\"\n",
        "  Evaluate model on the splitted 10 percent testing set.\n",
        "  \"\"\"\n",
        "  y_pred = model.predict(x_test)\n",
        "\n",
        "  #map probability to class\n",
        "  prob_to_class = lambda p: 1 if p[0]>=0.5 else 0\n",
        "  y_pred = np.apply_along_axis(prob_to_class,1,y_pred)\n",
        "    \n",
        "  f1score = f1_score(y_test,y_pred)\n",
        "  precision = precision_score(y_test,y_pred)\n",
        "  recall = recall_score(y_test,y_pred)\n",
        "  return f1score, precision, recall"
      ],
      "execution_count": 19,
      "outputs": []
    },
    {
      "cell_type": "code",
      "metadata": {
        "id": "NkQkiZrnGEzj",
        "colab_type": "code",
        "colab": {
          "base_uri": "https://localhost:8080/",
          "height": 34
        },
        "outputId": "008632f5-f6c0-485d-f086-ddbf8a327eaa"
      },
      "source": [
        "evaluate(x_test_char, y_test, model_feedforward_nn)"
      ],
      "execution_count": 20,
      "outputs": [
        {
          "output_type": "execute_result",
          "data": {
            "text/plain": [
              "(0.794766858456704, 0.8305623931523508, 0.7619292705009917)"
            ]
          },
          "metadata": {
            "tags": []
          },
          "execution_count": 20
        }
      ]
    },
    {
      "cell_type": "markdown",
      "metadata": {
        "id": "16JkhV4oGEzo",
        "colab_type": "text"
      },
      "source": [
        "# Debugging\n",
        "\n",
        "In order to understand what is going on in your model and where the error is, you should try looking at the inputs your model made wrong predictions.\n",
        "\n",
        "In this task, write a function to print the characters on test data that got wrong prediction along with its context of size 10 (from [x-10] to [x+10]). Examine a fews of those and write your assumption on where the model got wrong prediction."
      ]
    },
    {
      "cell_type": "code",
      "metadata": {
        "id": "VZRlHcBUGEzp",
        "colab_type": "code",
        "colab": {
          "base_uri": "https://localhost:8080/",
          "height": 34
        },
        "outputId": "dc7c095a-1c48-499f-d65b-e93e518bddcf"
      },
      "source": [
        "# TODO#1\n",
        "# Write code to show a few of the errors the models made.\n",
        "y_pred = model_feedforward_nn.predict(x_test_char)\n",
        "len(y_pred)"
      ],
      "execution_count": 67,
      "outputs": [
        {
          "output_type": "execute_result",
          "data": {
            "text/plain": [
              "1324421"
            ]
          },
          "metadata": {
            "tags": []
          },
          "execution_count": 67
        }
      ]
    },
    {
      "cell_type": "code",
      "metadata": {
        "id": "Bvm9DB6Bwrg1",
        "colab_type": "code",
        "colab": {
          "base_uri": "https://localhost:8080/",
          "height": 221
        },
        "outputId": "9059c35e-587a-46f6-fd5a-d0085664e562"
      },
      "source": [
        "prob_to_class = lambda p: 1 if p[0]>=0.5 else 0\n",
        "y_pred = np.apply_along_axis(prob_to_class,1,y_pred)\n",
        "\n",
        "res = y_test[:100] == y_pred[:100]\n",
        "res"
      ],
      "execution_count": 68,
      "outputs": [
        {
          "output_type": "execute_result",
          "data": {
            "text/plain": [
              "0      True\n",
              "1     False\n",
              "2      True\n",
              "3      True\n",
              "4      True\n",
              "      ...  \n",
              "95     True\n",
              "96    False\n",
              "97     True\n",
              "98     True\n",
              "99    False\n",
              "Name: target, Length: 100, dtype: bool"
            ]
          },
          "metadata": {
            "tags": []
          },
          "execution_count": 68
        }
      ]
    },
    {
      "cell_type": "code",
      "metadata": {
        "id": "G4-v-CAS7Hg0",
        "colab_type": "code",
        "colab": {
          "base_uri": "https://localhost:8080/",
          "height": 34
        },
        "outputId": "20d342d7-b586-4f51-912a-2a57e55519dd"
      },
      "source": [
        "not_match_idx = [i for i, x in enumerate(res) if not x]\n",
        "not_match_idx"
      ],
      "execution_count": 69,
      "outputs": [
        {
          "output_type": "execute_result",
          "data": {
            "text/plain": [
              "[1, 7, 17, 25, 44, 47, 62, 72, 75, 77, 86, 88, 90, 96, 99]"
            ]
          },
          "metadata": {
            "tags": []
          },
          "execution_count": 69
        }
      ]
    },
    {
      "cell_type": "code",
      "metadata": {
        "id": "u_pLigPZwrlg",
        "colab_type": "code",
        "colab": {
          "base_uri": "https://localhost:8080/",
          "height": 289
        },
        "outputId": "78e5e8b4-c38b-4ad0-aae1-1c5875f55a98"
      },
      "source": [
        "y_test.iloc[not_match_idx]"
      ],
      "execution_count": 80,
      "outputs": [
        {
          "output_type": "execute_result",
          "data": {
            "text/plain": [
              "1     1\n",
              "7     1\n",
              "17    1\n",
              "25    1\n",
              "44    1\n",
              "47    0\n",
              "62    0\n",
              "72    1\n",
              "75    0\n",
              "77    1\n",
              "86    1\n",
              "88    0\n",
              "90    0\n",
              "96    1\n",
              "99    1\n",
              "Name: target, dtype: int64"
            ]
          },
          "metadata": {
            "tags": []
          },
          "execution_count": 80
        }
      ]
    },
    {
      "cell_type": "code",
      "metadata": {
        "id": "5U_C7puP_eV8",
        "colab_type": "code",
        "colab": {
          "base_uri": "https://localhost:8080/",
          "height": 272
        },
        "outputId": "db431855-9691-41e6-86ac-9cd5787d3f8e"
      },
      "source": [
        "y_pred_df = pd.Series(y_pred)\n",
        "for ind in range((len(not_match_idx))):\n",
        "    print_features(x_test_char.iloc[idx], y_pred_df.iloc[idx],ind)"
      ],
      "execution_count": 76,
      "outputs": [
        {
          "output_type": "stream",
          "text": [
            "-: ๘ - @เช้าวันนี\t pred = 0\n",
            "ว: ๘-@เช้า ว ันนี้ฉันอ\t pred = 0\n",
            "อ: วันนี้ฉัน อ ารมณ์ดีกว่\t pred = 0\n",
            "ก: ันอารมณ์ดี ก ว่าวันก่อน\t pred = 0\n",
            "น: อนๆขึ้นมา น ิดหนึ่งเพ\t pred = 0\n",
            "ห: ขึ้นมานิด ห นึ่งเพราะ\t pred = 1\n",
            "ช: เพราะบ้าน ช ่องที่เคยเ\t pred = 1\n",
            "เ: ช่องที่เคย เ กะกะไปด้วย\t pred = 0\n",
            "ก: งที่เคยเกะ ก ะไปด้วยกอง\t pred = 1\n",
            "ไ: ี่เคยเกะกะ ไ ปด้วยกองสม\t pred = 0\n",
            "ส: ะไปด้วยกอง ส มบัติเก่าแ\t pred = 0\n",
            "บ: ปด้วยกองสม บ ัติเก่าและ\t pred = 1\n",
            "ต: ้วยกองสมบั ต ิเก่าและให\t pred = 1\n",
            "แ: สมบัติเก่า แ ละใหม่ที่ส\t pred = 0\n",
            "ใ: ัติเก่าและ ใ หม่ที่ส่งก\t pred = 0\n"
          ],
          "name": "stdout"
        }
      ]
    },
    {
      "cell_type": "markdown",
      "metadata": {
        "id": "wrtneDAAGEzt",
        "colab_type": "text"
      },
      "source": [
        "# Write your answer here\n",
        "\n",
        "**Your answer**: TODO#2"
      ]
    },
    {
      "cell_type": "markdown",
      "metadata": {
        "id": "CdZkKjreGEzu",
        "colab_type": "text"
      },
      "source": [
        "# Tensorboard #\n",
        "The code provided also have Tensorboard (a visualization tool that comes with Tensorflow). Note the part that calls it `TensorBoard(log_dir='./Graph/' + graph_name, histogram_freq=1, write_graph=True, write_grads=True)`. This tells Tensorflow to write extra outputs to the `log_dir` which can then be used for visualization.\n",
        "\n",
        "To start tensorboard do\n",
        "```\n",
        "tensorboard --logdir=/full_path_to_your_logs\n",
        "```\n",
        "from the commandline. This will launch tensorboard, you will be able to access it from a web browser by pointint the url to `<instance-ip>:6006`. You will need to enable additional firewall rules in Gcloud for this.\n",
        "\n",
        "In Tensorboard, you will be able to debug your computation graph which can be hard to keep track in code. This is might seem trivial in Keras, but it is very helpful for Tensorflow. You can see a visualization of the computation graph at the `GRAPH` tab. If you see multiple dense layers (more than 4), this is caused by running the code several times without deleting the log dir. Delete the log dir and re-run the code.\n",
        "\n",
        "Next, let's look at the scalars tab, we can see the loss and accuracy on the training and validation set as they change over each epoch. This can be useful to detect overfitting.\n",
        "\n",
        "Another useful tab is the histograms tab. This plot histograms of the weights, biases, and outputs of each layer. The depth of the histograms show the change over epochs. We can see how the histograms of weights change over the training peroid. This can be used to debug vanishing gradients or getting stuck in local minimas.\n",
        "\n",
        "There are other useful tabs in Tensorboard, you can read about them in the Keras [documentation](https://keras.io/callbacks/#tensorboard) for tensorboard."
      ]
    },
    {
      "cell_type": "markdown",
      "metadata": {
        "id": "ZdhASw2lGEzv",
        "colab_type": "text"
      },
      "source": [
        "# Tensorboard observation\n",
        "\n",
        "Write your own interpretation of the logs from this example. A simple sentence or two for each tab is sufficient.\n",
        "\n",
        "**Your answer**: TODO#3"
      ]
    },
    {
      "cell_type": "markdown",
      "metadata": {
        "id": "58vXRJeWGEzw",
        "colab_type": "text"
      },
      "source": [
        "# Dropout\n",
        "\n",
        "You might notice that the 3-layered feedforward does not use dropout at all. Now, try adding dropout to the model, run, and report the result again."
      ]
    },
    {
      "cell_type": "code",
      "metadata": {
        "id": "fu97Yp6UGEzx",
        "colab_type": "code",
        "colab": {}
      },
      "source": [
        "# TODO#4\n",
        "# Write a function that return feedforward model with dropout\n",
        "def get_nn_with_dropout():\n",
        "  pass\n",
        "  return model"
      ],
      "execution_count": null,
      "outputs": []
    },
    {
      "cell_type": "code",
      "metadata": {
        "id": "smWVuxOQGEz1",
        "colab_type": "code",
        "colab": {}
      },
      "source": [
        "# Train your model\n",
        "print('start training')\n",
        "verbose = 2\n",
        "model_nn_with_dropout = get_nn_with_dropout()\n",
        "# TODO#5\n",
        "# Complete the code to train your model with dropout\n",
        "################################################################################\n",
        "#                            WRITE YOUR CODE BELOW                             #\n",
        "################################################################################\n"
      ],
      "execution_count": null,
      "outputs": []
    },
    {
      "cell_type": "code",
      "metadata": {
        "id": "WmI-gEGlGEz5",
        "colab_type": "code",
        "colab": {}
      },
      "source": [
        "evaluate(x_test_char, y_test, model_nn_with_dropout)"
      ],
      "execution_count": null,
      "outputs": []
    },
    {
      "cell_type": "markdown",
      "metadata": {
        "id": "EiLFE-GMGEz9",
        "colab_type": "text"
      },
      "source": [
        "# Convolution Neural Networks\n",
        "\n",
        "Now, you are going to implement you own 1d-convolution neural networks with the following structure:\n",
        "input -> embedding layer (size 32) -> 1D-convolution layer (100 filters of size 5, strides of 1) -> TimeDistributed (Dense size 5) -> fully-connected layer (size 100) -> output.\n",
        "\n",
        "These parameters are simple guidelines to save your time. You can play with them in the final section.\n",
        "\n",
        "The results should be better than the feedforward model.\n",
        "\n",
        "Embedding layers turn the input from a one-hot vector into better representations via some feature transform (a simple matrix multiply in this case). TimeDistributed is Keras' way of specifying that the layer of the network should be distributed along time (the first dimension) as shown in the picture below.\n",
        "\n",
        "<img src=\"https://raw.githubusercontent.com/ekapolc/nlp_course/master/HW1/images/configuration.png\">\n",
        "\n",
        "Note you need to flatten() before the final fully connected layer because of dimension mis-match.\n",
        "\n",
        "Do consult keras documentation on how to use [embedding layers](https://keras.io/layers/embeddings/) and [1D-cnn](https://keras.io/layers/convolutional/).\n"
      ]
    },
    {
      "cell_type": "code",
      "metadata": {
        "id": "I0QPQBWnGEz-",
        "colab_type": "code",
        "colab": {}
      },
      "source": [
        "################################################################################\n",
        "# TODO#6:                                                                      #\n",
        "# Write a function that returns keras convolution nueral network model.        #\n",
        "# You can choose any normalization methods, activation function, as well as    #\n",
        "# any hyperparameter the way you want. Your goal is to predict a score         #\n",
        "# between [0,1] for each input whether it is the beginning of the word or not. #\n",
        "#                                                                              #\n",
        "# Hint: You should read keras documentation to see the list of available       #\n",
        "# layers and options you can use.                                              #\n",
        "################################################################################\n",
        "\n",
        "def get_conv1d_nn():\n",
        "\n",
        "  return model"
      ],
      "execution_count": null,
      "outputs": []
    },
    {
      "cell_type": "code",
      "metadata": {
        "id": "_LvLzHqxGE0C",
        "colab_type": "code",
        "colab": {}
      },
      "source": [
        "################################################################################\n",
        "# TODO#7:                                                                      #\n",
        "# Write code that call model.fit, or model.fit_generator if you have data      #\n",
        "# generator, to train you models. Make sure you have validation_data as an     # \n",
        "# argument and use verbose=2 to generate one log line per epoch. Select your   #\n",
        "# batch size carefully as it will affect your model's ability to converge and  #\n",
        "# time needed for one epoch.                                                   #\n",
        "################################################################################\n",
        "print('start training conv1d')\n",
        "model_conv1d_nn = get_conv1d_nn()\n",
        "################################################################################\n",
        "#                            WRITE YOUR CODE BELOW                             #\n",
        "################################################################################\n"
      ],
      "execution_count": null,
      "outputs": []
    },
    {
      "cell_type": "code",
      "metadata": {
        "id": "RYsvoZkXGE0G",
        "colab_type": "code",
        "colab": {}
      },
      "source": [
        "evaluate(x_test_char, y_test, model_conv1d_nn)"
      ],
      "execution_count": null,
      "outputs": []
    },
    {
      "cell_type": "markdown",
      "metadata": {
        "id": "sIToycmvGE0O",
        "colab_type": "text"
      },
      "source": [
        "# GRU\n",
        "\n",
        "Implement your GRU model with the following structure: input -> embedding layer (size 32) -> GRU layer (size 32) -> fully-connected layer (size 100) -> output.\n",
        "\n",
        "\n",
        "These parameters are simple guidelines to save your time. You can play with them in the final section.\n",
        "\n",
        "The result should be better than the feedforward model and at least on par with your CNN model.\n",
        "\n",
        "Do consult keras documentation on how to use [embedding layers](https://keras.io/layers/embeddings/) and [GRUs](https://keras.io/layers/recurrent/).\n"
      ]
    },
    {
      "cell_type": "code",
      "metadata": {
        "id": "lBywtVCtGE0P",
        "colab_type": "code",
        "colab": {}
      },
      "source": [
        "################################################################################\n",
        "# TODO#8                                                                       #\n",
        "# Write a function that returns keras GRU network moded. You can choose any    #\n",
        "# normalization methods, activation function, as well as any hyperparameter    #\n",
        "# the way you want. Your goal is to predict a score between [0,1] for each     #\n",
        "# input whether it is the beginning of the word or not.                        #\n",
        "#                                                                              #\n",
        "# Hint: You should read keras documentation to see the list of available       #\n",
        "# layers and options you can use.                                              #\n",
        "################################################################################\n",
        "\n",
        "def get_gru():\n",
        "\n",
        "  return model"
      ],
      "execution_count": null,
      "outputs": []
    },
    {
      "cell_type": "code",
      "metadata": {
        "id": "BruoJHYjGE0S",
        "colab_type": "code",
        "colab": {}
      },
      "source": [
        "################################################################################\n",
        "# TODO#9                                                                       #\n",
        "# Write code that call model.fit, or model.fit_generator if you have data      #\n",
        "# generator, to train you models. Make sure you have validation_data as an     # \n",
        "# argument and use verbose=2 to generate one log line per epoch. Select your   #\n",
        "# batch size carefully as it will affect your model's ability to converge and  #\n",
        "# time needed for one epoch.                                                   #\n",
        "################################################################################\n",
        "print('start training conv1d')\n",
        "model_gru = get_gru()\n",
        "################################################################################\n",
        "#                            WRITE YOUR CODE BELOW                             #\n",
        "################################################################################\n"
      ],
      "execution_count": null,
      "outputs": []
    },
    {
      "cell_type": "code",
      "metadata": {
        "id": "Ltm_lAAjGE0X",
        "colab_type": "code",
        "colab": {}
      },
      "source": [
        "evaluate(x_test_char, y_test, model_gru)"
      ],
      "execution_count": null,
      "outputs": []
    },
    {
      "cell_type": "markdown",
      "metadata": {
        "id": "Wzmwe7kpGE0c",
        "colab_type": "text"
      },
      "source": [
        "# Final Section\n",
        "# Keras playground\n",
        "\n",
        "Now, train the best model you can do for this task. You can use any model structure and function available. Remember that trainig time increases with the complexity of the model. You might find TensorBoard helpful in tuning of complicated models.\n",
        "\n",
        "Your model should be better than your CNN or GRU model in the previous sections.\n",
        "\n",
        "Some ideas to try\n",
        "1. Tune the parameters\n",
        "2. Bi-directional GRU\n",
        "3. CNN-GRU model"
      ]
    },
    {
      "cell_type": "code",
      "metadata": {
        "id": "kuFrEYuiGE0c",
        "colab_type": "code",
        "colab": {}
      },
      "source": [
        "################################################################################\n",
        "# TODO#10                                                                      #\n",
        "# Write a function that returns keras your best model. You can use anything    #\n",
        "# you want. The goal here is to create the best model you can think of.        #\n",
        "# Your model should get f-score more than 97% from calling evaluate().         #\n",
        "#                                                                              #\n",
        "# Hint: You should read keras documentation to see the list of available       #\n",
        "# layers and options you can use.                                              #\n",
        "################################################################################\n",
        "\n",
        "def get_my_best_model():\n",
        "  return model"
      ],
      "execution_count": null,
      "outputs": []
    },
    {
      "cell_type": "code",
      "metadata": {
        "id": "37WnYG5YGE0g",
        "colab_type": "code",
        "colab": {}
      },
      "source": [
        "################################################################################\n",
        "# TODO#11                                                                      #\n",
        "# Write code that call model.fit, or model.fit_generator if you have data      #\n",
        "# generator, to train you models. Make sure you have validation_data as an     # \n",
        "# argument and use verbose=2 to generate one log line per epoch. Select your   #\n",
        "# batch size carefully as it will affect your model's ability to converge and  #\n",
        "# time needed for one epoch.                                                   #\n",
        "#                                                                              #\n",
        "# Hint: Read about callbacks_list argument on the documentation. You might     #\n",
        "# find  ReduceLROnPlateau() and ModelCheckpoint() useful for your training     #\n",
        "# process. Feel free to use any other callback function available.             #\n",
        "################################################################################\n",
        "print('start training conv1d')\n",
        "my_best_model = get_my_best_model()\n",
        "################################################################################\n",
        "#                            WRITE YOUR CODE BELOW                             #\n",
        "################################################################################"
      ],
      "execution_count": null,
      "outputs": []
    },
    {
      "cell_type": "code",
      "metadata": {
        "id": "p3qwLMExGE0l",
        "colab_type": "code",
        "colab": {}
      },
      "source": [
        "evaluate(x_test_char, y_test, my_best_model)"
      ],
      "execution_count": null,
      "outputs": []
    }
  ]
}